{
 "cells": [
  {
   "cell_type": "code",
   "execution_count": 119,
   "metadata": {
    "id": "tYF0wHEstw9J"
   },
   "outputs": [],
   "source": [
    "# pip install textacy"
   ]
  },
  {
   "cell_type": "markdown",
   "metadata": {
    "id": "0cW2B_RzBRjF"
   },
   "source": [
    "## Load the Data"
   ]
  },
  {
   "cell_type": "code",
   "execution_count": 2,
   "metadata": {
    "id": "xujiX5MyHuun"
   },
   "outputs": [],
   "source": [
    "# from pydrive.auth import GoogleAuth\n",
    "# from pydrive.drive import GoogleDrive\n",
    "# from google.colab import auth\n",
    "# from oauth2client.client import GoogleCredentials"
   ]
  },
  {
   "cell_type": "code",
   "execution_count": 3,
   "metadata": {
    "id": "c-AvpRBwHaxL"
   },
   "outputs": [],
   "source": [
    "# process to load data from google drive\n",
    "# auth.authenticate_user()\n",
    "# gauth = GoogleAuth()\n",
    "# gauth.credentials = GoogleCredentials.get_application_default()\n",
    "# drive = GoogleDrive(gauth)"
   ]
  },
  {
   "cell_type": "code",
   "execution_count": 4,
   "metadata": {
    "id": "hgVUaWqGHcqb"
   },
   "outputs": [],
   "source": [
    "#https://drive.google.com/file/d/1j9v_kxmwACTUihPJE_sL2bjhxb_SlhlZ/view\n",
    "# fileDownloaded = drive.CreateFile({'id':'1j9v_kxmwACTUihPJE_sL2bjhxb_SlhlZ'})"
   ]
  },
  {
   "cell_type": "code",
   "execution_count": 5,
   "metadata": {
    "id": "bv7zhDB8IHAs"
   },
   "outputs": [],
   "source": [
    "# fileDownloaded.GetContentFile('universal_studio_branches 2.csv')"
   ]
  },
  {
   "cell_type": "code",
   "execution_count": 6,
   "metadata": {
    "id": "7NlPLq3dbHy4"
   },
   "outputs": [],
   "source": [
    "import pandas as pd\n",
    "import re\n",
    "from textacy import preprocessing"
   ]
  },
  {
   "cell_type": "code",
   "execution_count": 7,
   "metadata": {
    "colab": {
     "base_uri": "https://localhost:8080/",
     "height": 206
    },
    "id": "WiLzLMA8cBJR",
    "outputId": "e0f9aba0-20e7-48e2-ecc3-558667b13c5e"
   },
   "outputs": [
    {
     "data": {
      "text/html": [
       "<div>\n",
       "<style scoped>\n",
       "    .dataframe tbody tr th:only-of-type {\n",
       "        vertical-align: middle;\n",
       "    }\n",
       "\n",
       "    .dataframe tbody tr th {\n",
       "        vertical-align: top;\n",
       "    }\n",
       "\n",
       "    .dataframe thead th {\n",
       "        text-align: right;\n",
       "    }\n",
       "</style>\n",
       "<table border=\"1\" class=\"dataframe\">\n",
       "  <thead>\n",
       "    <tr style=\"text-align: right;\">\n",
       "      <th></th>\n",
       "      <th>reviewer</th>\n",
       "      <th>rating</th>\n",
       "      <th>written_date</th>\n",
       "      <th>title</th>\n",
       "      <th>review_text</th>\n",
       "      <th>branch</th>\n",
       "    </tr>\n",
       "  </thead>\n",
       "  <tbody>\n",
       "    <tr>\n",
       "      <th>0</th>\n",
       "      <td>Kelly B</td>\n",
       "      <td>2.0</td>\n",
       "      <td>May 30, 2021</td>\n",
       "      <td>Universal is a complete Disaster - stick with ...</td>\n",
       "      <td>We went to Universal over Memorial Day weekend...</td>\n",
       "      <td>Universal Studios Florida</td>\n",
       "    </tr>\n",
       "    <tr>\n",
       "      <th>1</th>\n",
       "      <td>Jon</td>\n",
       "      <td>1.0</td>\n",
       "      <td>May 30, 2021</td>\n",
       "      <td>Food is hard to get.</td>\n",
       "      <td>The food service is horrible. I’m not reviewin...</td>\n",
       "      <td>Universal Studios Florida</td>\n",
       "    </tr>\n",
       "    <tr>\n",
       "      <th>2</th>\n",
       "      <td>Nerdy P</td>\n",
       "      <td>2.0</td>\n",
       "      <td>May 30, 2021</td>\n",
       "      <td>Disappointed</td>\n",
       "      <td>I booked this vacation mainly to ride Hagrid m...</td>\n",
       "      <td>Universal Studios Florida</td>\n",
       "    </tr>\n",
       "    <tr>\n",
       "      <th>3</th>\n",
       "      <td>ran101278</td>\n",
       "      <td>4.0</td>\n",
       "      <td>May 29, 2021</td>\n",
       "      <td>My opinion</td>\n",
       "      <td>When a person tries the test seat for the ride...</td>\n",
       "      <td>Universal Studios Florida</td>\n",
       "    </tr>\n",
       "    <tr>\n",
       "      <th>4</th>\n",
       "      <td>tammies20132015</td>\n",
       "      <td>5.0</td>\n",
       "      <td>May 28, 2021</td>\n",
       "      <td>The Bourne Stuntacular...MUST SEE</td>\n",
       "      <td>Ok, I can't stress enough to anyone and everyo...</td>\n",
       "      <td>Universal Studios Florida</td>\n",
       "    </tr>\n",
       "  </tbody>\n",
       "</table>\n",
       "</div>"
      ],
      "text/plain": [
       "          reviewer  rating  written_date  \\\n",
       "0          Kelly B     2.0  May 30, 2021   \n",
       "1              Jon     1.0  May 30, 2021   \n",
       "2          Nerdy P     2.0  May 30, 2021   \n",
       "3        ran101278     4.0  May 29, 2021   \n",
       "4  tammies20132015     5.0  May 28, 2021   \n",
       "\n",
       "                                               title  \\\n",
       "0  Universal is a complete Disaster - stick with ...   \n",
       "1                               Food is hard to get.   \n",
       "2                                       Disappointed   \n",
       "3                                         My opinion   \n",
       "4                  The Bourne Stuntacular...MUST SEE   \n",
       "\n",
       "                                         review_text  \\\n",
       "0  We went to Universal over Memorial Day weekend...   \n",
       "1  The food service is horrible. I’m not reviewin...   \n",
       "2  I booked this vacation mainly to ride Hagrid m...   \n",
       "3  When a person tries the test seat for the ride...   \n",
       "4  Ok, I can't stress enough to anyone and everyo...   \n",
       "\n",
       "                      branch  \n",
       "0  Universal Studios Florida  \n",
       "1  Universal Studios Florida  \n",
       "2  Universal Studios Florida  \n",
       "3  Universal Studios Florida  \n",
       "4  Universal Studios Florida  "
      ]
     },
     "execution_count": 7,
     "metadata": {},
     "output_type": "execute_result"
    }
   ],
   "source": [
    "studio_reviews = pd.read_csv('universal_studio_branches 2.csv', encoding = 'UTF-8')\n",
    "studio_reviews.drop_duplicates(subset=['review_text'], inplace = True)\n",
    "studio_reviews.reset_index(drop=True)\n",
    "studio_reviews.head()"
   ]
  },
  {
   "cell_type": "markdown",
   "metadata": {
    "id": "imCzrKdzXPkb"
   },
   "source": [
    "## Exploratory Data Analysis"
   ]
  },
  {
   "cell_type": "code",
   "execution_count": 8,
   "metadata": {
    "id": "4xt53EeJXULk"
   },
   "outputs": [],
   "source": [
    "studio_reviews['branch']=studio_reviews['branch'].str[18:]"
   ]
  },
  {
   "cell_type": "code",
   "execution_count": 9,
   "metadata": {
    "id": "7_1Kh9_fYf3O"
   },
   "outputs": [],
   "source": [
    "import numpy as np\n",
    "import datetime\n",
    "studio_reviews['joined date']=pd.to_datetime(studio_reviews['written_date'])\n",
    "studio_reviews['Year']=studio_reviews['joined date'].dt.year"
   ]
  },
  {
   "cell_type": "code",
   "execution_count": 10,
   "metadata": {
    "id": "VLH8FtVSXXlT"
   },
   "outputs": [],
   "source": [
    "F=['Florida']\n",
    "J=['Japan']\n",
    "S=['Singapore']\n",
    "RegionAll=['Florida', 'Japan', 'Singapore']\n"
   ]
  },
  {
   "cell_type": "code",
   "execution_count": 11,
   "metadata": {
    "id": "SllNmdZ4aCQt"
   },
   "outputs": [],
   "source": [
    "YearA=range(2002,2007)\n",
    "YearB=range(2007,2012)\n",
    "YearC=range(2012,2017)\n",
    "YearD=range(2017,2022)\n",
    "YearAll=range(2002,2022)\n"
   ]
  },
  {
   "cell_type": "code",
   "execution_count": 12,
   "metadata": {
    "id": "1vtwXdUHXXq-"
   },
   "outputs": [],
   "source": [
    "def df(year, branch):\n",
    "    currData = studio_reviews[studio_reviews['branch'].isin(branch)][studio_reviews['Year'].isin(year)]\n",
    "    return currData\n"
   ]
  },
  {
   "cell_type": "markdown",
   "metadata": {
    "id": "iPN33G6tdk3p"
   },
   "source": [
    "### Rating Change across Time"
   ]
  },
  {
   "cell_type": "code",
   "execution_count": 13,
   "metadata": {
    "colab": {
     "base_uri": "https://localhost:8080/"
    },
    "id": "BpJJij2oZm4V",
    "outputId": "15cc22bd-e580-4fc3-ae29-135466f062cd"
   },
   "outputs": [
    {
     "name": "stderr",
     "output_type": "stream",
     "text": [
      "<ipython-input-12-f581d6e1f50d>:2: UserWarning: Boolean Series key will be reindexed to match DataFrame index.\n",
      "  currData = studio_reviews[studio_reviews['branch'].isin(branch)][studio_reviews['Year'].isin(year)]\n"
     ]
    }
   ],
   "source": [
    "infoFL=df(YearAll,F).groupby('Year').agg({'rating':'mean'}).reset_index().rename(columns = {'rating':'FL'})\n",
    "infoJA=df(YearAll,J).groupby('Year').agg({'rating':'mean'}).reset_index().rename(columns = {'rating':'JA'})\n",
    "infoSG=df(YearAll,S).groupby('Year').agg({'rating':'mean'}).reset_index().rename(columns = {'rating':'SG'})"
   ]
  },
  {
   "cell_type": "code",
   "execution_count": 14,
   "metadata": {
    "colab": {
     "base_uri": "https://localhost:8080/",
     "height": 457
    },
    "id": "4jAtavITZwRA",
    "outputId": "dc5d3e77-4151-438e-9cbf-b15e30bc872b"
   },
   "outputs": [
    {
     "data": {
      "text/html": [
       "<div>\n",
       "<style scoped>\n",
       "    .dataframe tbody tr th:only-of-type {\n",
       "        vertical-align: middle;\n",
       "    }\n",
       "\n",
       "    .dataframe tbody tr th {\n",
       "        vertical-align: top;\n",
       "    }\n",
       "\n",
       "    .dataframe thead th {\n",
       "        text-align: right;\n",
       "    }\n",
       "</style>\n",
       "<table border=\"1\" class=\"dataframe\">\n",
       "  <thead>\n",
       "    <tr style=\"text-align: right;\">\n",
       "      <th></th>\n",
       "      <th>FL</th>\n",
       "      <th>JA</th>\n",
       "      <th>SG</th>\n",
       "    </tr>\n",
       "    <tr>\n",
       "      <th>Year</th>\n",
       "      <th></th>\n",
       "      <th></th>\n",
       "      <th></th>\n",
       "    </tr>\n",
       "  </thead>\n",
       "  <tbody>\n",
       "    <tr>\n",
       "      <th>2010</th>\n",
       "      <td>3.636076</td>\n",
       "      <td>4.428571</td>\n",
       "      <td>3.411111</td>\n",
       "    </tr>\n",
       "    <tr>\n",
       "      <th>2011</th>\n",
       "      <td>3.914077</td>\n",
       "      <td>4.240000</td>\n",
       "      <td>4.014286</td>\n",
       "    </tr>\n",
       "    <tr>\n",
       "      <th>2012</th>\n",
       "      <td>3.974952</td>\n",
       "      <td>4.103448</td>\n",
       "      <td>4.373094</td>\n",
       "    </tr>\n",
       "    <tr>\n",
       "      <th>2013</th>\n",
       "      <td>4.144472</td>\n",
       "      <td>4.161677</td>\n",
       "      <td>4.370113</td>\n",
       "    </tr>\n",
       "    <tr>\n",
       "      <th>2014</th>\n",
       "      <td>4.265368</td>\n",
       "      <td>3.925595</td>\n",
       "      <td>4.245758</td>\n",
       "    </tr>\n",
       "    <tr>\n",
       "      <th>2015</th>\n",
       "      <td>4.424596</td>\n",
       "      <td>4.017943</td>\n",
       "      <td>4.338159</td>\n",
       "    </tr>\n",
       "    <tr>\n",
       "      <th>2016</th>\n",
       "      <td>4.371062</td>\n",
       "      <td>4.088954</td>\n",
       "      <td>4.400452</td>\n",
       "    </tr>\n",
       "    <tr>\n",
       "      <th>2017</th>\n",
       "      <td>4.384741</td>\n",
       "      <td>4.238095</td>\n",
       "      <td>4.318021</td>\n",
       "    </tr>\n",
       "    <tr>\n",
       "      <th>2018</th>\n",
       "      <td>4.287786</td>\n",
       "      <td>4.224590</td>\n",
       "      <td>4.182266</td>\n",
       "    </tr>\n",
       "    <tr>\n",
       "      <th>2019</th>\n",
       "      <td>4.145419</td>\n",
       "      <td>4.192641</td>\n",
       "      <td>4.049581</td>\n",
       "    </tr>\n",
       "    <tr>\n",
       "      <th>2020</th>\n",
       "      <td>4.032967</td>\n",
       "      <td>4.486842</td>\n",
       "      <td>3.830986</td>\n",
       "    </tr>\n",
       "    <tr>\n",
       "      <th>2021</th>\n",
       "      <td>2.976378</td>\n",
       "      <td>3.666667</td>\n",
       "      <td>3.750000</td>\n",
       "    </tr>\n",
       "  </tbody>\n",
       "</table>\n",
       "</div>"
      ],
      "text/plain": [
       "            FL        JA        SG\n",
       "Year                              \n",
       "2010  3.636076  4.428571  3.411111\n",
       "2011  3.914077  4.240000  4.014286\n",
       "2012  3.974952  4.103448  4.373094\n",
       "2013  4.144472  4.161677  4.370113\n",
       "2014  4.265368  3.925595  4.245758\n",
       "2015  4.424596  4.017943  4.338159\n",
       "2016  4.371062  4.088954  4.400452\n",
       "2017  4.384741  4.238095  4.318021\n",
       "2018  4.287786  4.224590  4.182266\n",
       "2019  4.145419  4.192641  4.049581\n",
       "2020  4.032967  4.486842  3.830986\n",
       "2021  2.976378  3.666667  3.750000"
      ]
     },
     "execution_count": 14,
     "metadata": {},
     "output_type": "execute_result"
    }
   ],
   "source": [
    "info=pd.merge(pd.merge(infoFL,infoJA,on='Year'),infoSG,on='Year').set_index('Year')\n",
    "info"
   ]
  },
  {
   "cell_type": "code",
   "execution_count": 15,
   "metadata": {
    "colab": {
     "base_uri": "https://localhost:8080/",
     "height": 297
    },
    "id": "kILK66GJdrEZ",
    "outputId": "3b516811-2696-4a61-d0b2-eacf35d91556"
   },
   "outputs": [
    {
     "data": {
      "text/plain": [
       "Text(0, 0.5, 'Rating')"
      ]
     },
     "execution_count": 15,
     "metadata": {},
     "output_type": "execute_result"
    },
    {
     "data": {
      "image/png": "[encoded data removed]",
      "text/plain": [
       "<Figure size 432x288 with 1 Axes>"
      ]
     },
     "metadata": {
      "needs_background": "light"
     },
     "output_type": "display_data"
    }
   ],
   "source": [
    "import seaborn as sns\n",
    "import matplotlib.pyplot as plt\n",
    "\n",
    "sns.lineplot(data=info)\n",
    "plt.ylabel('Rating')"
   ]
  },
  {
   "cell_type": "markdown",
   "metadata": {
    "id": "1pXmW9_EhGM3"
   },
   "source": [
    "### Rate Number across Time"
   ]
  },
  {
   "cell_type": "code",
   "execution_count": 16,
   "metadata": {
    "colab": {
     "base_uri": "https://localhost:8080/"
    },
    "id": "KYptl6Rehgdj",
    "outputId": "79f8965e-970a-4dc5-812a-dc9e9b5623da"
   },
   "outputs": [
    {
     "name": "stderr",
     "output_type": "stream",
     "text": [
      "<ipython-input-12-f581d6e1f50d>:2: UserWarning: Boolean Series key will be reindexed to match DataFrame index.\n",
      "  currData = studio_reviews[studio_reviews['branch'].isin(branch)][studio_reviews['Year'].isin(year)]\n"
     ]
    }
   ],
   "source": [
    "countF=pd.DataFrame(df(YearAll,F).Year.value_counts()).sort_index().reset_index().rename(columns={'index':'year',\"Year\":'FL'})\n",
    "countS=pd.DataFrame(df(YearAll,S).Year.value_counts()).sort_index().reset_index().rename(columns={'index':'year',\"Year\":'SG'})\n",
    "countJ=pd.DataFrame(df(YearAll,J).Year.value_counts()).sort_index().reset_index().rename(columns={'index':'year',\"Year\":'JA'})\n"
   ]
  },
  {
   "cell_type": "code",
   "execution_count": 17,
   "metadata": {
    "colab": {
     "base_uri": "https://localhost:8080/",
     "height": 457
    },
    "id": "Mf817XdchRfL",
    "outputId": "3e7854f3-d6cd-4f06-b53b-71e18b225049"
   },
   "outputs": [
    {
     "data": {
      "text/html": [
       "<div>\n",
       "<style scoped>\n",
       "    .dataframe tbody tr th:only-of-type {\n",
       "        vertical-align: middle;\n",
       "    }\n",
       "\n",
       "    .dataframe tbody tr th {\n",
       "        vertical-align: top;\n",
       "    }\n",
       "\n",
       "    .dataframe thead th {\n",
       "        text-align: right;\n",
       "    }\n",
       "</style>\n",
       "<table border=\"1\" class=\"dataframe\">\n",
       "  <thead>\n",
       "    <tr style=\"text-align: right;\">\n",
       "      <th></th>\n",
       "      <th>FL</th>\n",
       "      <th>JA</th>\n",
       "      <th>SG</th>\n",
       "    </tr>\n",
       "    <tr>\n",
       "      <th>year</th>\n",
       "      <th></th>\n",
       "      <th></th>\n",
       "      <th></th>\n",
       "    </tr>\n",
       "  </thead>\n",
       "  <tbody>\n",
       "    <tr>\n",
       "      <th>2010</th>\n",
       "      <td>316</td>\n",
       "      <td>7</td>\n",
       "      <td>90</td>\n",
       "    </tr>\n",
       "    <tr>\n",
       "      <th>2011</th>\n",
       "      <td>547</td>\n",
       "      <td>25</td>\n",
       "      <td>420</td>\n",
       "    </tr>\n",
       "    <tr>\n",
       "      <th>2012</th>\n",
       "      <td>1038</td>\n",
       "      <td>116</td>\n",
       "      <td>1115</td>\n",
       "    </tr>\n",
       "    <tr>\n",
       "      <th>2013</th>\n",
       "      <td>2035</td>\n",
       "      <td>167</td>\n",
       "      <td>1586</td>\n",
       "    </tr>\n",
       "    <tr>\n",
       "      <th>2014</th>\n",
       "      <td>3286</td>\n",
       "      <td>336</td>\n",
       "      <td>1827</td>\n",
       "    </tr>\n",
       "    <tr>\n",
       "      <th>2015</th>\n",
       "      <td>5570</td>\n",
       "      <td>836</td>\n",
       "      <td>2694</td>\n",
       "    </tr>\n",
       "    <tr>\n",
       "      <th>2016</th>\n",
       "      <td>5619</td>\n",
       "      <td>1023</td>\n",
       "      <td>2657</td>\n",
       "    </tr>\n",
       "    <tr>\n",
       "      <th>2017</th>\n",
       "      <td>4299</td>\n",
       "      <td>861</td>\n",
       "      <td>1981</td>\n",
       "    </tr>\n",
       "    <tr>\n",
       "      <th>2018</th>\n",
       "      <td>3930</td>\n",
       "      <td>610</td>\n",
       "      <td>1624</td>\n",
       "    </tr>\n",
       "    <tr>\n",
       "      <th>2019</th>\n",
       "      <td>2565</td>\n",
       "      <td>462</td>\n",
       "      <td>1432</td>\n",
       "    </tr>\n",
       "    <tr>\n",
       "      <th>2020</th>\n",
       "      <td>637</td>\n",
       "      <td>76</td>\n",
       "      <td>284</td>\n",
       "    </tr>\n",
       "    <tr>\n",
       "      <th>2021</th>\n",
       "      <td>254</td>\n",
       "      <td>3</td>\n",
       "      <td>28</td>\n",
       "    </tr>\n",
       "  </tbody>\n",
       "</table>\n",
       "</div>"
      ],
      "text/plain": [
       "        FL    JA    SG\n",
       "year                  \n",
       "2010   316     7    90\n",
       "2011   547    25   420\n",
       "2012  1038   116  1115\n",
       "2013  2035   167  1586\n",
       "2014  3286   336  1827\n",
       "2015  5570   836  2694\n",
       "2016  5619  1023  2657\n",
       "2017  4299   861  1981\n",
       "2018  3930   610  1624\n",
       "2019  2565   462  1432\n",
       "2020   637    76   284\n",
       "2021   254     3    28"
      ]
     },
     "execution_count": 17,
     "metadata": {},
     "output_type": "execute_result"
    }
   ],
   "source": [
    "count=pd.merge(pd.merge(countF,countJ,on='year'),countS,on='year').set_index('year')\n",
    "count"
   ]
  },
  {
   "cell_type": "code",
   "execution_count": 18,
   "metadata": {
    "colab": {
     "base_uri": "https://localhost:8080/",
     "height": 297
    },
    "id": "A_XpUYDFhT7y",
    "outputId": "f3d514dd-9b89-4f94-efb9-702e0bb04d87"
   },
   "outputs": [
    {
     "data": {
      "text/plain": [
       "Text(0.5, 0, 'Year')"
      ]
     },
     "execution_count": 18,
     "metadata": {},
     "output_type": "execute_result"
    },
    {
     "data": {
      "image/png": "[encoded data removed]",
      "text/plain": [
       "<Figure size 432x288 with 1 Axes>"
      ]
     },
     "metadata": {
      "needs_background": "light"
     },
     "output_type": "display_data"
    }
   ],
   "source": [
    "import seaborn as sns\n",
    "sns.lineplot(data=count)\n",
    "plt.ylabel('# of Reviews')\n",
    "plt.xlabel('Year')"
   ]
  },
  {
   "cell_type": "markdown",
   "metadata": {
    "id": "Msc9r8Aww3Th"
   },
   "source": [
    "### Number of Reviews according to Segments"
   ]
  },
  {
   "cell_type": "code",
   "execution_count": 19,
   "metadata": {
    "id": "2Jn1WvkT4GC3"
   },
   "outputs": [],
   "source": [
    "# define a function to count the word\n",
    "def word_count(regex,review=studio_reviews['review_text']):\n",
    "    count = 0\n",
    "    for i in review:\n",
    "        if len(re.findall(regex,i,re.IGNORECASE))!=0:\n",
    "            count += 1\n",
    "    return count"
   ]
  },
  {
   "cell_type": "code",
   "execution_count": 20,
   "metadata": {},
   "outputs": [],
   "source": [
    "regex = [r\"\\bson(s)?\\b\",\n",
    "        r\"\\b(dad|father)\\b\",\n",
    "        r\"\\bhusband\\b\",\n",
    "        r\"\\bdaughter(s)?\\b\",\n",
    "        r\"\\b(mom|mother)\\b\",\n",
    "        r\"\\bwife\\b\"]"
   ]
  },
  {
   "cell_type": "code",
   "execution_count": 21,
   "metadata": {},
   "outputs": [],
   "source": [
    "people = ['son','father','husband','daughter','mother','wife']"
   ]
  },
  {
   "cell_type": "code",
   "execution_count": 22,
   "metadata": {},
   "outputs": [
    {
     "name": "stdout",
     "output_type": "stream",
     "text": [
      "son : 1746\n",
      "father : 211\n",
      "husband : 1486\n",
      "daughter : 1710\n",
      "mother : 289\n",
      "wife : 1263\n"
     ]
    }
   ],
   "source": [
    "for i in range(len(regex)):\n",
    "    print(people[i],':',word_count(regex[i]))"
   ]
  },
  {
   "cell_type": "markdown",
   "metadata": {
    "id": "dP_1nVJWxBeG"
   },
   "source": [
    "### According to holiday"
   ]
  },
  {
   "cell_type": "code",
   "execution_count": 23,
   "metadata": {
    "colab": {
     "base_uri": "https://localhost:8080/",
     "height": 206
    },
    "id": "zN1jZ56jRYk7",
    "outputId": "c983af88-5cb8-4af0-fe00-aa3d6717095f"
   },
   "outputs": [
    {
     "data": {
      "text/html": [
       "<div>\n",
       "<style scoped>\n",
       "    .dataframe tbody tr th:only-of-type {\n",
       "        vertical-align: middle;\n",
       "    }\n",
       "\n",
       "    .dataframe tbody tr th {\n",
       "        vertical-align: top;\n",
       "    }\n",
       "\n",
       "    .dataframe thead th {\n",
       "        text-align: right;\n",
       "    }\n",
       "</style>\n",
       "<table border=\"1\" class=\"dataframe\">\n",
       "  <thead>\n",
       "    <tr style=\"text-align: right;\">\n",
       "      <th></th>\n",
       "      <th>reviewer</th>\n",
       "      <th>rating</th>\n",
       "      <th>written_date</th>\n",
       "      <th>title</th>\n",
       "      <th>review_text</th>\n",
       "      <th>branch</th>\n",
       "      <th>joined date</th>\n",
       "      <th>Year</th>\n",
       "    </tr>\n",
       "  </thead>\n",
       "  <tbody>\n",
       "    <tr>\n",
       "      <th>0</th>\n",
       "      <td>Kelly B</td>\n",
       "      <td>2.0</td>\n",
       "      <td>May 30, 2021</td>\n",
       "      <td>Universal is a complete Disaster - stick with ...</td>\n",
       "      <td>We went to Universal over Memorial Day weekend...</td>\n",
       "      <td>Florida</td>\n",
       "      <td>2021-05-30</td>\n",
       "      <td>2021</td>\n",
       "    </tr>\n",
       "    <tr>\n",
       "      <th>1</th>\n",
       "      <td>Jon</td>\n",
       "      <td>1.0</td>\n",
       "      <td>May 30, 2021</td>\n",
       "      <td>Food is hard to get.</td>\n",
       "      <td>The food service is horrible. I’m not reviewin...</td>\n",
       "      <td>Florida</td>\n",
       "      <td>2021-05-30</td>\n",
       "      <td>2021</td>\n",
       "    </tr>\n",
       "    <tr>\n",
       "      <th>2</th>\n",
       "      <td>Nerdy P</td>\n",
       "      <td>2.0</td>\n",
       "      <td>May 30, 2021</td>\n",
       "      <td>Disappointed</td>\n",
       "      <td>I booked this vacation mainly to ride Hagrid m...</td>\n",
       "      <td>Florida</td>\n",
       "      <td>2021-05-30</td>\n",
       "      <td>2021</td>\n",
       "    </tr>\n",
       "    <tr>\n",
       "      <th>3</th>\n",
       "      <td>ran101278</td>\n",
       "      <td>4.0</td>\n",
       "      <td>May 29, 2021</td>\n",
       "      <td>My opinion</td>\n",
       "      <td>When a person tries the test seat for the ride...</td>\n",
       "      <td>Florida</td>\n",
       "      <td>2021-05-29</td>\n",
       "      <td>2021</td>\n",
       "    </tr>\n",
       "    <tr>\n",
       "      <th>4</th>\n",
       "      <td>tammies20132015</td>\n",
       "      <td>5.0</td>\n",
       "      <td>May 28, 2021</td>\n",
       "      <td>The Bourne Stuntacular...MUST SEE</td>\n",
       "      <td>Ok, I can't stress enough to anyone and everyo...</td>\n",
       "      <td>Florida</td>\n",
       "      <td>2021-05-28</td>\n",
       "      <td>2021</td>\n",
       "    </tr>\n",
       "  </tbody>\n",
       "</table>\n",
       "</div>"
      ],
      "text/plain": [
       "          reviewer  rating  written_date  \\\n",
       "0          Kelly B     2.0  May 30, 2021   \n",
       "1              Jon     1.0  May 30, 2021   \n",
       "2          Nerdy P     2.0  May 30, 2021   \n",
       "3        ran101278     4.0  May 29, 2021   \n",
       "4  tammies20132015     5.0  May 28, 2021   \n",
       "\n",
       "                                               title  \\\n",
       "0  Universal is a complete Disaster - stick with ...   \n",
       "1                               Food is hard to get.   \n",
       "2                                       Disappointed   \n",
       "3                                         My opinion   \n",
       "4                  The Bourne Stuntacular...MUST SEE   \n",
       "\n",
       "                                         review_text   branch joined date  \\\n",
       "0  We went to Universal over Memorial Day weekend...  Florida  2021-05-30   \n",
       "1  The food service is horrible. I’m not reviewin...  Florida  2021-05-30   \n",
       "2  I booked this vacation mainly to ride Hagrid m...  Florida  2021-05-30   \n",
       "3  When a person tries the test seat for the ride...  Florida  2021-05-29   \n",
       "4  Ok, I can't stress enough to anyone and everyo...  Florida  2021-05-28   \n",
       "\n",
       "   Year  \n",
       "0  2021  \n",
       "1  2021  \n",
       "2  2021  \n",
       "3  2021  \n",
       "4  2021  "
      ]
     },
     "execution_count": 23,
     "metadata": {},
     "output_type": "execute_result"
    }
   ],
   "source": [
    "studio_reviews.head()"
   ]
  },
  {
   "cell_type": "code",
   "execution_count": 24,
   "metadata": {
    "id": "mFlVLc5tRbT0"
   },
   "outputs": [],
   "source": [
    "positive_reviews=studio_reviews[studio_reviews['rating']>=4]\n",
    "negative_reviews=studio_reviews[studio_reviews['rating']<4]"
   ]
  },
  {
   "cell_type": "code",
   "execution_count": 25,
   "metadata": {},
   "outputs": [],
   "source": [
    "regex = [r'\\b(christmas|xmas|x-mas|christ-mas)\\b',\n",
    "        r'\\b(birthday|bday|b-day)\\b',\n",
    "        r'\\banniversary\\b',\n",
    "        r'\\bhalloween\\b']"
   ]
  },
  {
   "cell_type": "code",
   "execution_count": 26,
   "metadata": {},
   "outputs": [],
   "source": [
    "holiday = ['Christmas','Birthday','Anniversary','Halloween']"
   ]
  },
  {
   "cell_type": "code",
   "execution_count": 27,
   "metadata": {},
   "outputs": [
    {
     "name": "stdout",
     "output_type": "stream",
     "text": [
      "positive reviews\n",
      "Christmas : 778\n",
      "Birthday : 329\n",
      "Anniversary : 107\n",
      "Halloween : 1164\n"
     ]
    }
   ],
   "source": [
    "print('positive reviews')\n",
    "for i in range(len(regex)):\n",
    "    print(holiday[i],':',word_count(regex[i],review=positive_reviews['review_text']))"
   ]
  },
  {
   "cell_type": "code",
   "execution_count": 28,
   "metadata": {},
   "outputs": [
    {
     "name": "stdout",
     "output_type": "stream",
     "text": [
      "negative reviews\n",
      "Christmas : 166\n",
      "Birthday : 53\n",
      "Anniversary : 22\n",
      "Halloween : 293\n"
     ]
    }
   ],
   "source": [
    "print('negative reviews')\n",
    "for i in range(len(regex)):\n",
    "    print(holiday[i],':',word_count(regex[i],review=negative_reviews['review_text']))"
   ]
  },
  {
   "cell_type": "markdown",
   "metadata": {
    "id": "1Z_mMSk3XYy4"
   },
   "source": [
    "## Data Cleaning"
   ]
  },
  {
   "cell_type": "code",
   "execution_count": 29,
   "metadata": {
    "colab": {
     "base_uri": "https://localhost:8080/",
     "height": 354
    },
    "id": "QFIWHqekoMWT",
    "outputId": "551a276b-608c-43a4-9876-47bf22c11d1a"
   },
   "outputs": [
    {
     "data": {
      "text/html": [
       "<div>\n",
       "<style scoped>\n",
       "    .dataframe tbody tr th:only-of-type {\n",
       "        vertical-align: middle;\n",
       "    }\n",
       "\n",
       "    .dataframe tbody tr th {\n",
       "        vertical-align: top;\n",
       "    }\n",
       "\n",
       "    .dataframe thead th {\n",
       "        text-align: right;\n",
       "    }\n",
       "</style>\n",
       "<table border=\"1\" class=\"dataframe\">\n",
       "  <thead>\n",
       "    <tr style=\"text-align: right;\">\n",
       "      <th></th>\n",
       "      <th>reviewer</th>\n",
       "      <th>rating</th>\n",
       "      <th>written_date</th>\n",
       "      <th>title</th>\n",
       "      <th>review_text</th>\n",
       "      <th>branch</th>\n",
       "      <th>joined date</th>\n",
       "      <th>Year</th>\n",
       "      <th>ori_review_text</th>\n",
       "    </tr>\n",
       "  </thead>\n",
       "  <tbody>\n",
       "    <tr>\n",
       "      <th>0</th>\n",
       "      <td>Kelly B</td>\n",
       "      <td>2.0</td>\n",
       "      <td>May 30, 2021</td>\n",
       "      <td>Universal is a complete Disaster - stick with ...</td>\n",
       "      <td>Universal is a complete Disaster - stick with ...</td>\n",
       "      <td>Florida</td>\n",
       "      <td>2021-05-30</td>\n",
       "      <td>2021</td>\n",
       "      <td>We went to Universal over Memorial Day weekend...</td>\n",
       "    </tr>\n",
       "    <tr>\n",
       "      <th>1</th>\n",
       "      <td>Jon</td>\n",
       "      <td>1.0</td>\n",
       "      <td>May 30, 2021</td>\n",
       "      <td>Food is hard to get.</td>\n",
       "      <td>Food is hard to get. The food service is horri...</td>\n",
       "      <td>Florida</td>\n",
       "      <td>2021-05-30</td>\n",
       "      <td>2021</td>\n",
       "      <td>The food service is horrible. I’m not reviewin...</td>\n",
       "    </tr>\n",
       "    <tr>\n",
       "      <th>2</th>\n",
       "      <td>Nerdy P</td>\n",
       "      <td>2.0</td>\n",
       "      <td>May 30, 2021</td>\n",
       "      <td>Disappointed</td>\n",
       "      <td>Disappointed I booked this vacation mainly to ...</td>\n",
       "      <td>Florida</td>\n",
       "      <td>2021-05-30</td>\n",
       "      <td>2021</td>\n",
       "      <td>I booked this vacation mainly to ride Hagrid m...</td>\n",
       "    </tr>\n",
       "    <tr>\n",
       "      <th>3</th>\n",
       "      <td>ran101278</td>\n",
       "      <td>4.0</td>\n",
       "      <td>May 29, 2021</td>\n",
       "      <td>My opinion</td>\n",
       "      <td>My opinion When a person tries the test seat f...</td>\n",
       "      <td>Florida</td>\n",
       "      <td>2021-05-29</td>\n",
       "      <td>2021</td>\n",
       "      <td>When a person tries the test seat for the ride...</td>\n",
       "    </tr>\n",
       "    <tr>\n",
       "      <th>4</th>\n",
       "      <td>tammies20132015</td>\n",
       "      <td>5.0</td>\n",
       "      <td>May 28, 2021</td>\n",
       "      <td>The Bourne Stuntacular...MUST SEE</td>\n",
       "      <td>The Bourne Stuntacular...MUST SEE Ok, I can't ...</td>\n",
       "      <td>Florida</td>\n",
       "      <td>2021-05-28</td>\n",
       "      <td>2021</td>\n",
       "      <td>Ok, I can't stress enough to anyone and everyo...</td>\n",
       "    </tr>\n",
       "  </tbody>\n",
       "</table>\n",
       "</div>"
      ],
      "text/plain": [
       "          reviewer  rating  written_date  \\\n",
       "0          Kelly B     2.0  May 30, 2021   \n",
       "1              Jon     1.0  May 30, 2021   \n",
       "2          Nerdy P     2.0  May 30, 2021   \n",
       "3        ran101278     4.0  May 29, 2021   \n",
       "4  tammies20132015     5.0  May 28, 2021   \n",
       "\n",
       "                                               title  \\\n",
       "0  Universal is a complete Disaster - stick with ...   \n",
       "1                               Food is hard to get.   \n",
       "2                                       Disappointed   \n",
       "3                                         My opinion   \n",
       "4                  The Bourne Stuntacular...MUST SEE   \n",
       "\n",
       "                                         review_text   branch joined date  \\\n",
       "0  Universal is a complete Disaster - stick with ...  Florida  2021-05-30   \n",
       "1  Food is hard to get. The food service is horri...  Florida  2021-05-30   \n",
       "2  Disappointed I booked this vacation mainly to ...  Florida  2021-05-30   \n",
       "3  My opinion When a person tries the test seat f...  Florida  2021-05-29   \n",
       "4  The Bourne Stuntacular...MUST SEE Ok, I can't ...  Florida  2021-05-28   \n",
       "\n",
       "   Year                                    ori_review_text  \n",
       "0  2021  We went to Universal over Memorial Day weekend...  \n",
       "1  2021  The food service is horrible. I’m not reviewin...  \n",
       "2  2021  I booked this vacation mainly to ride Hagrid m...  \n",
       "3  2021  When a person tries the test seat for the ride...  \n",
       "4  2021  Ok, I can't stress enough to anyone and everyo...  "
      ]
     },
     "execution_count": 29,
     "metadata": {},
     "output_type": "execute_result"
    }
   ],
   "source": [
    "## combine title and review_text\n",
    "studio_reviews['ori_review_text'] = studio_reviews['review_text']\n",
    "studio_reviews['review_text'] = studio_reviews['title'] + ' ' + studio_reviews['review_text']\n",
    "studio_reviews.head()"
   ]
  },
  {
   "cell_type": "markdown",
   "metadata": {
    "id": "2FA7mz2_fL3e"
   },
   "source": [
    "### Regex Cleaning"
   ]
  },
  {
   "cell_type": "code",
   "execution_count": 30,
   "metadata": {
    "id": "GQ0bb6cvciHY"
   },
   "outputs": [],
   "source": [
    "preproc = preprocessing.make_pipeline(\n",
    "            preprocessing.remove.punctuation,\n",
    "            preprocessing.replace.numbers,\n",
    "            preprocessing.replace.currency_symbols,\n",
    "            preprocessing.normalize.whitespace)\n",
    "# before: We spend $730 on our 7 years old son. It''s so expensive!\n",
    "# after: We spend _CUR__NUMBER_ on our _NUMBER_ years old son Its so expensive"
   ]
  },
  {
   "cell_type": "code",
   "execution_count": 31,
   "metadata": {
    "id": "gtyjy67thJBR"
   },
   "outputs": [],
   "source": [
    "def regex_clean(text):\n",
    "    text = re.sub(r'\\b(3|4)-D\\b', r'\\1D', text, flags=re.IGNORECASE)\n",
    "    text = preproc(text)\n",
    "    text = re.sub(r'\\bUniversal( studio(s)?)?( park(s)?)?\\b', '_UNIVERSAL_STUDIO_', text, flags=re.IGNORECASE)\n",
    "    text = re.sub(r'\\b(Island of Adventure|Islands of Adventure)\\b', '_ISLAND_OF_ADVENTURE_', text, flags=re.IGNORECASE)\n",
    "    text = re.sub(r'\\bDisney( park(s)?)?( world)?\\b', '_DISNEY_', text, flags=re.IGNORECASE)\n",
    "    text = re.sub(r'\\b(express|fast) (pass(es)?|ticket(s)?)\\b', '_EXPRESS_PASS_', text, flags=re.IGNORECASE)\n",
    "    text = re.sub(r'\\b((park|park to park) (pass(es)?|ticket(s)?|passport(s)?)|park to park)\\b', '_PARK_PASS_', text, flags=re.IGNORECASE)\n",
    "    text = re.sub(r'\\b(Harry Potter|HarryPotter)( world(s)?| ride(s)?)?\\b', '_HARRY_POTTER_', text, flags=re.IGNORECASE)\n",
    "    text = re.sub(r'\\b(Halloween Horror Night(s)?|Halloween Horror|Halloween Night(s)?)\\b', '_HALLOWEEN_HORROR_NIGHT_', text, flags=re.IGNORECASE)\n",
    "    text = re.sub(r'\\b(Hollywood )?Rip Ride (Rocket|Rockit)\\b', '_RIP_RIDE_ROCKIT_', text, flags=re.IGNORECASE)\n",
    "    text = re.sub(r'\\bJurassic Park( Ride)?\\b', '_JURASSIC_PARK_RIDE_', text, flags=re.IGNORECASE)\n",
    "    text = re.sub(r'\\b((Roller Coaster)|Ride)\\b', '_RIDE_', text, flags=re.IGNORECASE) \n",
    "    text = re.sub(r'\\b(Theme Park(s)?|ThemePark)\\b', '_THEME_PARK_', text, flags=re.IGNORECASE)    \n",
    "    return text"
   ]
  },
  {
   "cell_type": "code",
   "execution_count": 32,
   "metadata": {
    "id": "4k2MLvw8j8WH"
   },
   "outputs": [],
   "source": [
    "studio_reviews['review_text'] = [regex_clean(text) for text in studio_reviews['review_text']]"
   ]
  },
  {
   "cell_type": "markdown",
   "metadata": {
    "id": "ZxoVKyhCkaSV"
   },
   "source": [
    "### Stopwords Removal"
   ]
  },
  {
   "cell_type": "code",
   "execution_count": 33,
   "metadata": {
    "colab": {
     "base_uri": "https://localhost:8080/"
    },
    "id": "xc7Dh8fRzubM",
    "outputId": "99d4f969-3def-4419-9fad-161dab01baf5"
   },
   "outputs": [
    {
     "name": "stderr",
     "output_type": "stream",
     "text": [
      "[nltk_data] Downloading package stopwords to\n",
      "[nltk_data]     /Users/bingxin/nltk_data...\n",
      "[nltk_data]   Package stopwords is already up-to-date!\n"
     ]
    },
    {
     "data": {
      "text/plain": [
       "True"
      ]
     },
     "execution_count": 33,
     "metadata": {},
     "output_type": "execute_result"
    }
   ],
   "source": [
    "import nltk\n",
    "nltk.download('stopwords')"
   ]
  },
  {
   "cell_type": "code",
   "execution_count": 34,
   "metadata": {
    "colab": {
     "base_uri": "https://localhost:8080/"
    },
    "id": "_wypBZJlzya3",
    "outputId": "47852955-309c-44ed-d68a-1d8d4609731f"
   },
   "outputs": [
    {
     "name": "stderr",
     "output_type": "stream",
     "text": [
      "[nltk_data] Downloading package punkt to /Users/bingxin/nltk_data...\n",
      "[nltk_data]   Package punkt is already up-to-date!\n"
     ]
    },
    {
     "data": {
      "text/plain": [
       "True"
      ]
     },
     "execution_count": 34,
     "metadata": {},
     "output_type": "execute_result"
    }
   ],
   "source": [
    "nltk.download('punkt')"
   ]
  },
  {
   "cell_type": "code",
   "execution_count": 35,
   "metadata": {
    "colab": {
     "base_uri": "https://localhost:8080/"
    },
    "id": "GHvMCcv993M2",
    "outputId": "1f9b643b-65a1-4047-bec8-ee4a4cf67e17"
   },
   "outputs": [
    {
     "name": "stdout",
     "output_type": "stream",
     "text": [
      "{'am', 'and', 'in', 'of', 'doing', \"wouldn't\", 'should', 'its', 'against', 'didn', 'couldn', 'm', 've', 'for', 'was', 'while', 'd', \"couldn't\", 'him', 'a', 'i', 'then', \"you've\", 'both', 'has', 'into', 'myself', 'can', 'these', 'y', 'too', \"shan't\", \"she's\", 'before', 'had', 'yours', 'hers', 'if', 'over', 'be', 'so', 'won', 'yourselves', 'during', 'through', \"won't\", 'this', 'don', \"weren't\", 'do', 'needn', 'our', 't', 'as', \"needn't\", 'those', 'have', 'wasn', 'than', 'with', 'her', 'did', 'up', 'that', 'shouldn', 'weren', 'were', 'other', 'his', 'll', 'ain', 'having', \"you'll\", 'at', 'not', \"it's\", 'how', 'any', 'the', 'isn', \"haven't\", 'me', 'to', 'haven', 'hadn', 'whom', 'on', 'himself', 'them', 'very', 'ma', 'out', 'there', \"don't\", 'their', \"that'll\", \"shouldn't\", 'shan', \"hadn't\", 'but', 'itself', 'my', 'between', 'are', 'is', 'again', 'because', 's', 'herself', 'yourself', 'ours', 'further', 'now', 'doesn', 'until', 'does', 'same', 'after', 'ourselves', 'your', 'each', 'down', 'it', 'you', 'what', \"should've\", 'which', 'been', \"mightn't\", 'from', 'only', 'under', 'theirs', \"didn't\", \"hasn't\", 'no', 'just', 'when', 'nor', \"wasn't\", 'he', 'who', 'why', 'wouldn', 'hasn', 'most', 'above', 'such', 'few', 'or', 'here', 'an', 'own', 'being', 'will', 'she', 'off', 'once', 'aren', 'below', 'all', \"mustn't\", 'by', 'o', \"isn't\", 'they', 'mightn', 'more', 're', 'where', \"you'd\", \"doesn't\", 'about', \"aren't\", 'we', 'some', \"you're\", 'mustn', 'themselves'}\n"
     ]
    }
   ],
   "source": [
    "from nltk.corpus import stopwords\n",
    "stop_words = set(stopwords.words('english'))\n",
    "print(stop_words)"
   ]
  },
  {
   "cell_type": "code",
   "execution_count": 36,
   "metadata": {
    "id": "anBSDryF_d7d"
   },
   "outputs": [],
   "source": [
    "stop_words_remove = ['no', 'nor', 'not', 'don', 'aren', 'couldn', 'didn', 'doesn', 'hadn', 'hasn', 'haven', 'isn', 'mightn', 'mustn', 'needn', 'shouldn', 'shan', 'wasn', 'weren', 'won', 'wouldn']\n",
    "stop_words_add = ['_cur__number_', '_number_', '_cur_']"
   ]
  },
  {
   "cell_type": "code",
   "execution_count": 37,
   "metadata": {
    "id": "jFH5ppVe-3lS"
   },
   "outputs": [],
   "source": [
    "stop_words.update(stop_words_add)\n",
    "stop_words = {word for word in stop_words if word not in stop_words_remove}"
   ]
  },
  {
   "cell_type": "code",
   "execution_count": 38,
   "metadata": {
    "id": "ZIKnMCWj3zBb"
   },
   "outputs": [],
   "source": [
    "def remove_stopwords(text):\n",
    "    new_text = ' '.join([word for word in nltk.word_tokenize(text) if word.lower() not in stop_words])\n",
    "    return new_text"
   ]
  },
  {
   "cell_type": "code",
   "execution_count": 39,
   "metadata": {
    "id": "ny6m4Isc5IGp"
   },
   "outputs": [],
   "source": [
    "studio_reviews['review_text'] = [remove_stopwords(text) for text in studio_reviews['review_text']]"
   ]
  },
  {
   "cell_type": "markdown",
   "metadata": {
    "id": "AIbH4uRK5kBT"
   },
   "source": [
    "### Lemmatization"
   ]
  },
  {
   "cell_type": "code",
   "execution_count": 40,
   "metadata": {
    "colab": {
     "base_uri": "https://localhost:8080/"
    },
    "id": "pkSb-f6YrI4n",
    "outputId": "2cdb067e-dc96-4e8c-84e5-d7e10e3807cd"
   },
   "outputs": [
    {
     "name": "stderr",
     "output_type": "stream",
     "text": [
      "[nltk_data] Downloading package averaged_perceptron_tagger to\n",
      "[nltk_data]     /Users/bingxin/nltk_data...\n",
      "[nltk_data]   Package averaged_perceptron_tagger is already up-to-\n",
      "[nltk_data]       date!\n",
      "[nltk_data] Downloading package wordnet to /Users/bingxin/nltk_data...\n",
      "[nltk_data]   Package wordnet is already up-to-date!\n"
     ]
    },
    {
     "data": {
      "text/plain": [
       "True"
      ]
     },
     "execution_count": 40,
     "metadata": {},
     "output_type": "execute_result"
    }
   ],
   "source": [
    "nltk.download('averaged_perceptron_tagger')\n",
    "nltk.download('wordnet')"
   ]
  },
  {
   "cell_type": "code",
   "execution_count": 41,
   "metadata": {
    "id": "NpGUsYDLmFwH"
   },
   "outputs": [],
   "source": [
    "from nltk.stem import WordNetLemmatizer\n",
    "from nltk.corpus import wordnet\n",
    " \n",
    "lemmatizer = WordNetLemmatizer()\n",
    " \n",
    "# function to convert nltk tag to wordnet tag\n",
    "def nltk_tag_to_wordnet_tag(nltk_tag):\n",
    "   if nltk_tag.startswith('J'):\n",
    "       return wordnet.ADJ\n",
    "   elif nltk_tag.startswith('V'):\n",
    "       return wordnet.VERB\n",
    "   elif nltk_tag.startswith('N'):\n",
    "       return wordnet.NOUN\n",
    "   elif nltk_tag.startswith('R'):\n",
    "       return wordnet.ADV\n",
    "   else:         \n",
    "       return None\n",
    " \n",
    "def lemmatize_sentence(sentence):\n",
    "   #tokenize the sentence and find the POS tag for each token\n",
    "   nltk_tagged = nltk.pos_tag(nltk.word_tokenize(sentence)) \n",
    "   #tuple of (token, wordnet_tag)\n",
    "   wordnet_tagged = map(lambda x: (x[0], nltk_tag_to_wordnet_tag(x[1])), nltk_tagged)\n",
    "   lemmatized_sentence = []\n",
    "   for word, tag in wordnet_tagged:\n",
    "       if tag is None:\n",
    "           #if there is no available tag, append the token as is\n",
    "           lemmatized_sentence.append(word)\n",
    "       else:       \n",
    "           #else use the tag to lemmatize the token\n",
    "           lemmatized_sentence.append(lemmatizer.lemmatize(word, tag))\n",
    "   return \" \".join(lemmatized_sentence)\n",
    "studio_reviews['review_text'] =studio_reviews['review_text'].apply(lemmatize_sentence) "
   ]
  },
  {
   "cell_type": "code",
   "execution_count": 42,
   "metadata": {
    "id": "oKKml1AxBYbe"
   },
   "outputs": [],
   "source": [
    "# !python3 -m spacy download en_core_web_md\n",
    "# import en_core_web_md\n",
    "# import spacy\n",
    "# from scipy.spatial.distance import cosine\n",
    "\n",
    "# nlp = spacy.load('en_core_web_md')\n",
    "\n",
    "# def lemmatize_spacy(text):\n",
    "#   doc = nlp(text)\n",
    "#   lemmatized_sentence = []\n",
    "#   for token in doc:\n",
    "#     lemmatized_sentence.append(token.lemma_)\n",
    "#   return ' '.join(lemmatized_sentence)\n",
    "\n",
    "# studio_reviews['review_text'] =studio_reviews['review_text'].apply(lemmatize_spacy) "
   ]
  },
  {
   "cell_type": "code",
   "execution_count": 43,
   "metadata": {
    "id": "5ykBK8phn9KZ"
   },
   "outputs": [],
   "source": [
    "# studio_reviews.to_csv('studio_reviews_V2.csv')"
   ]
  },
  {
   "cell_type": "markdown",
   "metadata": {
    "id": "Fpqub6HwEPrp"
   },
   "source": [
    "## Word Count"
   ]
  },
  {
   "cell_type": "code",
   "execution_count": 44,
   "metadata": {
    "id": "jeOaEvAV79Me"
   },
   "outputs": [],
   "source": [
    "# from sklearn.feature_extraction import text \n",
    "# reviews_text = studio_reviews['review_text']\n",
    "# from sklearn.feature_extraction.text import CountVectorizer\n",
    "# vectorizer = CountVectorizer(ngram_range=(3,3),binary=True, min_df=4, max_features=500)\n",
    "# X = vectorizer.fit_transform(reviews_text) "
   ]
  },
  {
   "cell_type": "code",
   "execution_count": 45,
   "metadata": {
    "id": "xHbm_3xj9f1j"
   },
   "outputs": [],
   "source": [
    "# corpus_df = pd.DataFrame(X.toarray().transpose(), index=vectorizer.get_feature_names_out())\n",
    "# corpus_df"
   ]
  },
  {
   "cell_type": "code",
   "execution_count": 46,
   "metadata": {
    "id": "7S9tFyJ6EYi1"
   },
   "outputs": [],
   "source": [
    "# corpus_df = pd.DataFrame(corpus_df.sum(axis=1), columns=[\"score\"])\n",
    "# corpus_df.sort_values(by=\"score\", ascending=False, inplace=True)\n",
    "# corpus_df.head(20)"
   ]
  },
  {
   "cell_type": "markdown",
   "metadata": {
    "id": "ZlaN1KXeluk9"
   },
   "source": [
    "## N-Gram"
   ]
  },
  {
   "cell_type": "code",
   "execution_count": 48,
   "metadata": {
    "id": "mNAo2h7xmpdk"
   },
   "outputs": [],
   "source": [
    "from sklearn.feature_extraction.text import TfidfVectorizer\n",
    "from nltk.corpus import stopwords\n",
    "\n",
    "vectorizer = TfidfVectorizer(ngram_range=(3, 3),\n",
    "                             token_pattern=r'\\b[a-zA-Z]{2,}\\b',\n",
    "                             min_df=0.001, max_features=20,binary=True)\n"
   ]
  },
  {
   "cell_type": "code",
   "execution_count": 49,
   "metadata": {
    "id": "EIy_i-qvlto_"
   },
   "outputs": [],
   "source": [
    "from typing import List\n",
    "def get_score(year: List[int], branch: str, rating_list: List[int]):\n",
    "    currData = studio_reviews[studio_reviews['branch'].isin(branch)][studio_reviews['Year'].isin(year)]\n",
    "    poor=currData[currData['rating'].isin(rating_list)]\n",
    "    corpus = list(poor[\"review_text\"].values)\n",
    "    X = vectorizer.fit_transform(corpus)\n",
    "    terms = vectorizer.get_feature_names()\n",
    "    tf_idf = pd.DataFrame(X.toarray().transpose(), index=terms)\n",
    "    tf_idf = tf_idf.sum(axis=1)\n",
    "    score = pd.DataFrame(tf_idf, columns=[\"score\"])\n",
    "    score.sort_values(by=\"score\", ascending=False, inplace=True)\n",
    "    return score\n"
   ]
  },
  {
   "cell_type": "code",
   "execution_count": 50,
   "metadata": {
    "colab": {
     "base_uri": "https://localhost:8080/",
     "height": 454
    },
    "id": "3J13bnUUnqJ6",
    "outputId": "56188f23-a154-4cbd-937a-947021c18734"
   },
   "outputs": [
    {
     "name": "stderr",
     "output_type": "stream",
     "text": [
      "<ipython-input-49-1b874c9b54db>:3: UserWarning: Boolean Series key will be reindexed to match DataFrame index.\n",
      "  currData = studio_reviews[studio_reviews['branch'].isin(branch)][studio_reviews['Year'].isin(year)]\n"
     ]
    },
    {
     "data": {
      "text/html": [
       "<div>\n",
       "<style scoped>\n",
       "    .dataframe tbody tr th:only-of-type {\n",
       "        vertical-align: middle;\n",
       "    }\n",
       "\n",
       "    .dataframe tbody tr th {\n",
       "        vertical-align: top;\n",
       "    }\n",
       "\n",
       "    .dataframe thead th {\n",
       "        text-align: right;\n",
       "    }\n",
       "</style>\n",
       "<table border=\"1\" class=\"dataframe\">\n",
       "  <thead>\n",
       "    <tr style=\"text-align: right;\">\n",
       "      <th></th>\n",
       "      <th>score</th>\n",
       "    </tr>\n",
       "  </thead>\n",
       "  <tbody>\n",
       "    <tr>\n",
       "      <th>not worth money</th>\n",
       "      <td>112.006273</td>\n",
       "    </tr>\n",
       "    <tr>\n",
       "      <th>park one day</th>\n",
       "      <td>79.656019</td>\n",
       "    </tr>\n",
       "    <tr>\n",
       "      <th>waste time money</th>\n",
       "      <td>75.104357</td>\n",
       "    </tr>\n",
       "    <tr>\n",
       "      <th>never go back</th>\n",
       "      <td>60.872592</td>\n",
       "    </tr>\n",
       "    <tr>\n",
       "      <th>single rider line</th>\n",
       "      <td>60.493962</td>\n",
       "    </tr>\n",
       "    <tr>\n",
       "      <th>don waste time</th>\n",
       "      <td>59.662516</td>\n",
       "    </tr>\n",
       "    <tr>\n",
       "      <th>long wait time</th>\n",
       "      <td>57.225706</td>\n",
       "    </tr>\n",
       "    <tr>\n",
       "      <th>not go back</th>\n",
       "      <td>55.855949</td>\n",
       "    </tr>\n",
       "    <tr>\n",
       "      <th>wait line hour</th>\n",
       "      <td>53.100913</td>\n",
       "    </tr>\n",
       "    <tr>\n",
       "      <th>wait long line</th>\n",
       "      <td>48.200626</td>\n",
       "    </tr>\n",
       "  </tbody>\n",
       "</table>\n",
       "</div>"
      ],
      "text/plain": [
       "                        score\n",
       "not worth money    112.006273\n",
       "park one day        79.656019\n",
       "waste time money    75.104357\n",
       "never go back       60.872592\n",
       "single rider line   60.493962\n",
       "don waste time      59.662516\n",
       "long wait time      57.225706\n",
       "not go back         55.855949\n",
       "wait line hour      53.100913\n",
       "wait long line      48.200626"
      ]
     },
     "execution_count": 50,
     "metadata": {},
     "output_type": "execute_result"
    }
   ],
   "source": [
    "score = get_score(YearAll, F, [1, 2, 3])\n",
    "score.head(10)"
   ]
  },
  {
   "cell_type": "markdown",
   "metadata": {
    "id": "zuWmdC-6rbcM"
   },
   "source": [
    "## Word Cloud"
   ]
  },
  {
   "cell_type": "code",
   "execution_count": 51,
   "metadata": {
    "id": "Vqzt5PvRreFt"
   },
   "outputs": [],
   "source": [
    "from wordcloud import WordCloud\n",
    "import matplotlib.pyplot as plt"
   ]
  },
  {
   "cell_type": "code",
   "execution_count": 52,
   "metadata": {
    "colab": {
     "base_uri": "https://localhost:8080/",
     "height": 666
    },
    "id": "sLrLzrnLuikE",
    "outputId": "6d24d2d6-9b7b-4853-b5c7-39aabbaec5e5"
   },
   "outputs": [
    {
     "name": "stderr",
     "output_type": "stream",
     "text": [
      "<ipython-input-49-1b874c9b54db>:3: UserWarning: Boolean Series key will be reindexed to match DataFrame index.\n",
      "  currData = studio_reviews[studio_reviews['branch'].isin(branch)][studio_reviews['Year'].isin(year)]\n"
     ]
    },
    {
     "data": {
      "image/png": "[encoded data removed]",
      "text/plain": [
       "<Figure size 1440x720 with 1 Axes>"
      ]
     },
     "metadata": {
      "needs_background": "light"
     },
     "output_type": "display_data"
    }
   ],
   "source": [
    "# Positive Sentiment Word Phrase Cloud (Florida)\n",
    "d = {}\n",
    "score = get_score(YearAll, F, [4, 5])\n",
    "for i in score.index:\n",
    "    d[i] = int(score.loc[i, 'score'])\n",
    "\n",
    "# mk = imageio.imread(\"universal.jpeg\")\n",
    "\n",
    "w = WordCloud(width=500,height=300, background_color=None, mode=\"RGBA\",\n",
    "                normalize_plurals=False, # mask=mk,\n",
    "                color_func=lambda *args, **kwargs: \"royalblue\", # colormap = 'Blues',\n",
    "                scale=30)\n",
    "w.generate_from_frequencies(d)\n",
    "\n",
    "plt.figure(figsize=(20,10))\n",
    "plt.imshow(w, interpolation='bilinear')\n",
    "plt.axis(\"off\")\n",
    "plt.show()"
   ]
  },
  {
   "cell_type": "code",
   "execution_count": 53,
   "metadata": {
    "colab": {
     "base_uri": "https://localhost:8080/",
     "height": 666
    },
    "id": "wC8t-vr3u2yq",
    "outputId": "4418a6c7-488e-48b2-a846-47f56664ba84"
   },
   "outputs": [
    {
     "name": "stderr",
     "output_type": "stream",
     "text": [
      "<ipython-input-49-1b874c9b54db>:3: UserWarning: Boolean Series key will be reindexed to match DataFrame index.\n",
      "  currData = studio_reviews[studio_reviews['branch'].isin(branch)][studio_reviews['Year'].isin(year)]\n"
     ]
    },
    {
     "data": {
      "image/png": "[encoded data removed]",
      "text/plain": [
       "<Figure size 1440x720 with 1 Axes>"
      ]
     },
     "metadata": {
      "needs_background": "light"
     },
     "output_type": "display_data"
    }
   ],
   "source": [
    "# Negative Sentiment Word Phrase Cloud\n",
    "d = {}\n",
    "score = get_score(YearAll, F, [1, 2, 3])\n",
    "for i in score.index:\n",
    "    d[i] = int(score.loc[i, 'score'])\n",
    "\n",
    "# mk = imageio.imread(\"universal.jpeg\")\n",
    "\n",
    "w = WordCloud(width=500,height=300, background_color=None, mode=\"RGBA\",\n",
    "                normalize_plurals=False, # mask=mk,\n",
    "                color_func=lambda *args, **kwargs: \"dimgrey\", # colormap = 'Greys',\n",
    "                scale=30)\n",
    "w.generate_from_frequencies(d)\n",
    "\n",
    "plt.figure(figsize=(20,10))\n",
    "plt.imshow(w, interpolation='bilinear')\n",
    "plt.axis(\"off\")\n",
    "plt.show()"
   ]
  },
  {
   "cell_type": "markdown",
   "metadata": {
    "id": "S8_EJqSlBdVb"
   },
   "source": [
    "## Topic Modeling (NMF Model)"
   ]
  },
  {
   "cell_type": "code",
   "execution_count": 54,
   "metadata": {
    "id": "NCfwm1waV6OG"
   },
   "outputs": [],
   "source": [
    "vectorizer = TfidfVectorizer(ngram_range=(4, 4),\n",
    "                             token_pattern=r'\\b[a-zA-Z]{2,}\\b',\n",
    "                             min_df=0.001,binary=True)"
   ]
  },
  {
   "cell_type": "code",
   "execution_count": 55,
   "metadata": {
    "id": "zgpYV_4hNF91"
   },
   "outputs": [],
   "source": [
    "# studio_reviews_copy = studio_reviews.copy()\n",
    "# studio_reviews_copy.review_text = studio_reviews_copy.review_text.str.replace(r'\\btheme park(?:s)?\\b', '_THEME_PARK_', regex = True)\n",
    "# studio_reviews_copy.review_text = studio_reviews_copy.review_text.str.replace('_THEME_PARK_', '')"
   ]
  },
  {
   "cell_type": "code",
   "execution_count": 60,
   "metadata": {
    "id": "D2cfQVyjAM57"
   },
   "outputs": [],
   "source": [
    "from sklearn.decomposition import NMF\n",
    "from typing import List\n",
    "import numpy as np\n",
    "def topic_model(components: int, branch: str, min_year: int, max_year: int, rating_list: List[int], studio_reviews = studio_reviews):\n",
    "  studio_reviews = studio_reviews[(studio_reviews.branch == branch) & (studio_reviews.Year >= min_year) & (studio_reviews.Year <= max_year)]\n",
    "  studio_reviews = studio_reviews[studio_reviews.rating.isin(rating_list)]\n",
    "\n",
    "  X_studio, studio_terms = vectorizer.fit_transform(studio_reviews.review_text), vectorizer.get_feature_names()\n",
    "  studio_tf_idf = pd.DataFrame(X_studio.toarray(), columns=studio_terms)\n",
    "  print(f\"Studio TF-IDF: {studio_tf_idf.shape}\")\n",
    "  print(studio_tf_idf.head(5))\n",
    "\n",
    "  # Fit NMF Model\n",
    "  nmf = NMF(n_components=components)\n",
    "  W_studio = nmf.fit_transform(X_studio)\n",
    "  H_studio = nmf.components_\n",
    "  print(f\"Original shape of X news is {X_studio.shape}\")\n",
    "  print(f\"Decomposed W news matrix is {W_studio.shape}\")\n",
    "  print(f\"Decomposed H news matrix is {H_studio.shape}\")\n",
    "  return studio_reviews, studio_tf_idf, W_studio, H_studio"
   ]
  },
  {
   "cell_type": "code",
   "execution_count": 61,
   "metadata": {
    "id": "cmdaOU2xyaMP"
   },
   "outputs": [],
   "source": [
    "# Top Ngram\n",
    "from typing import List\n",
    "import numpy as np\n",
    "\n",
    "def get_top_tf_idf_tokens_for_topic(H: np.array, feature_names: List[str], num_top_tokens: int = 5):\n",
    "  \"\"\"\n",
    "  Uses the H matrix (K components x M original features) to identify for each\n",
    "  topic the most frequent tokens.\n",
    "  \"\"\"\n",
    "  for topic, vector in enumerate(H):\n",
    "    print(f\"TOPIC {topic}\\n\")\n",
    "    total = vector.sum()\n",
    "    top_scores = vector.argsort()[::-1][:num_top_tokens]\n",
    "    token_names = list(map(lambda idx: feature_names[idx], top_scores))\n",
    "    strengths = list(map(lambda idx: vector[idx] / total, top_scores))\n",
    "    \n",
    "    for strength, token_name in zip(strengths, token_names):\n",
    "      print(f\"\\b{token_name} ({round(strength * 100, 1)}%)\\n\")\n",
    "    print(f\"=\" * 50)"
   ]
  },
  {
   "cell_type": "code",
   "execution_count": 62,
   "metadata": {
    "id": "eO7TzfqRylKi"
   },
   "outputs": [],
   "source": [
    "# Get the Top Documents For Each Topic\n",
    "import numpy as np\n",
    "def get_top_documents_for_each_topic(W: np.array, documents: List[str], num_docs: int = 5):\n",
    "  sorted_docs = W.argsort(axis=0)[::-1]\n",
    "  top_docs = sorted_docs[:num_docs].T\n",
    "  per_document_totals = W.sum(axis=1)\n",
    "  for topic, top_documents_for_topic in enumerate(top_docs):\n",
    "    print(f\"Topic {topic}\")\n",
    "    for doc in top_documents_for_topic:\n",
    "      score = W[doc][topic]\n",
    "      percent_about_topic = round(score / per_document_totals[doc] * 100, 1)\n",
    "      print(f\"{percent_about_topic}%\", documents[doc])\n",
    "    print(\"=\" * 50)"
   ]
  },
  {
   "cell_type": "markdown",
   "metadata": {
    "id": "lT-wgG6eyuJi"
   },
   "source": [
    "### Postive Topic"
   ]
  },
  {
   "cell_type": "code",
   "execution_count": 63,
   "metadata": {
    "colab": {
     "base_uri": "https://localhost:8080/"
    },
    "id": "8foGwmdcAO87",
    "outputId": "a75ad508-df4f-412e-c340-ef4340d4aece"
   },
   "outputs": [
    {
     "name": "stdout",
     "output_type": "stream",
     "text": [
      "Studio TF-IDF: (24889, 30)\n",
      "   cant wait go back  diagon alley escape gringotts  \\\n",
      "0                0.0                            0.0   \n",
      "1                0.0                            0.0   \n",
      "2                0.0                            0.0   \n",
      "3                0.0                            0.0   \n",
      "4                0.0                            0.0   \n",
      "\n",
      "   diagon alley hogwarts express  fallon race new york  go back next year  \\\n",
      "0                            0.0                   0.0                0.0   \n",
      "1                            0.0                   0.0                0.0   \n",
      "2                            0.0                   0.0                0.0   \n",
      "3                            0.0                   0.0                0.0   \n",
      "4                            0.0                   0.0                0.0   \n",
      "\n",
      "   go single rider line  great day great day  great park great park  \\\n",
      "0                   0.0                  0.0                    0.0   \n",
      "1                   0.0                  0.0                    0.0   \n",
      "2                   0.0                  0.0                    0.0   \n",
      "3                   0.0                  0.0                    0.0   \n",
      "4                   0.0                  0.0                    0.0   \n",
      "\n",
      "   great place spend day  jimmy fallon race new  ...  stay hard rock hotel  \\\n",
      "0                    0.0                    0.0  ...                   0.0   \n",
      "1                    0.0                    0.0  ...                   0.0   \n",
      "2                    0.0                    0.0  ...                   0.0   \n",
      "3                    0.0                    0.0  ...                   0.0   \n",
      "4                    0.0                    0.0  ...                   0.0   \n",
      "\n",
      "   stay loews royal pacific  stay one site hotel  take advantage single rider  \\\n",
      "0                       0.0                  0.0                          0.0   \n",
      "1                       0.0                  0.0                          0.0   \n",
      "2                       0.0                  0.0                          0.0   \n",
      "3                       0.0                  0.0                          0.0   \n",
      "4                       0.0                  0.0                          0.0   \n",
      "\n",
      "   two park one day  use single rider line  wizarding world diagon alley  \\\n",
      "0               0.0                    0.0                           0.0   \n",
      "1               0.0                    0.0                           0.0   \n",
      "2               0.0                    0.0                           0.0   \n",
      "3               0.0                    0.0                           0.0   \n",
      "4               0.0                    0.0                           0.0   \n",
      "\n",
      "   would definitely go back  year old year old  year since last visit  \n",
      "0                       0.0                0.0                    0.0  \n",
      "1                       0.0                0.0                    0.0  \n",
      "2                       0.0                0.0                    0.0  \n",
      "3                       0.0                0.0                    0.0  \n",
      "4                       0.0                0.0                    0.0  \n",
      "\n",
      "[5 rows x 30 columns]\n",
      "Original shape of X news is (24889, 30)\n",
      "Decomposed W news matrix is (24889, 3)\n",
      "Decomposed H news matrix is (3, 30)\n"
     ]
    },
    {
     "name": "stderr",
     "output_type": "stream",
     "text": [
      "/Users/bingxin/opt/anaconda3/lib/python3.8/site-packages/sklearn/decomposition/_nmf.py:312: FutureWarning: The 'init' value, when 'init=None' and n_components is less than n_samples and n_features, will be changed from 'nndsvd' to 'nndsvda' in 1.1 (renaming of 0.26).\n",
      "  warnings.warn((\"The 'init' value, when 'init=None' and \"\n"
     ]
    }
   ],
   "source": [
    "studio_reviews_topic, studio_tf_idf, W_studio, H_studio = topic_model(3, 'Florida', 2002, 2021, [4, 5])"
   ]
  },
  {
   "cell_type": "code",
   "execution_count": 64,
   "metadata": {
    "colab": {
     "base_uri": "https://localhost:8080/"
    },
    "id": "FFeL6qzfCZXT",
    "outputId": "78ed18c7-67fd-4eff-b297-50cad97e6e6a"
   },
   "outputs": [
    {
     "name": "stdout",
     "output_type": "stream",
     "text": [
      "TOPIC 0\n",
      "\n",
      "\buse single rider line (96.8%)\n",
      "\n",
      "\bwizarding world diagon alley (2.0%)\n",
      "\n",
      "\bdiagon alley escape gringotts (0.6%)\n",
      "\n",
      "\bnew york san francisco (0.5%)\n",
      "\n",
      "\bfallon race new york (0.0%)\n",
      "\n",
      "==================================================\n",
      "TOPIC 1\n",
      "\n",
      "\bstay hard rock hotel (93.5%)\n",
      "\n",
      "\bstay one site hotel (1.7%)\n",
      "\n",
      "\bfallon race new york (1.5%)\n",
      "\n",
      "\bjimmy fallon race new (1.5%)\n",
      "\n",
      "\bper person per day (1.0%)\n",
      "\n",
      "==================================================\n",
      "TOPIC 2\n",
      "\n",
      "\bmen black alien attack (84.0%)\n",
      "\n",
      "\bwizarding world diagon alley (9.3%)\n",
      "\n",
      "\byear old year old (1.5%)\n",
      "\n",
      "\bnew york san francisco (1.5%)\n",
      "\n",
      "\bdiagon alley hogwarts express (0.9%)\n",
      "\n",
      "==================================================\n"
     ]
    }
   ],
   "source": [
    "get_top_tf_idf_tokens_for_topic(H_studio, studio_tf_idf.columns.tolist(), 5)"
   ]
  },
  {
   "cell_type": "code",
   "execution_count": 65,
   "metadata": {
    "colab": {
     "base_uri": "https://localhost:8080/"
    },
    "id": "OLM1fw5tCrPD",
    "outputId": "246df6c0-e1dd-43ca-86b2-6ae05351cf18"
   },
   "outputs": [
    {
     "name": "stdout",
     "output_type": "stream",
     "text": [
      "Topic 0\n",
      "100.0% much fun come _HARRY_POTTER_ experience super well do enjoy rest park nephew get picked participate Fear Factor much fun us watch didn _EXPRESS_PASS_ didn need fine use single rider line get every _RIDE_ want fast much easy _DISNEY_\n",
      "100.0% Single Rider Line way go one swing use single rider line cut huge amount time line wait\n",
      "100.0% Spring break Great place visit impressed people wheelchairs able _RIDE_ rid suggest go park open not wait long time also suggest use single rider line rather pay extra per person _EXPRESS_PASS_ rid end gift shop meet party u go rid separate time\n",
      "100.0% Fantastic experience past week go past week spring break teacher mission visit _HARRY_POTTER_ review separately get two day _PARK_PASS_ need _RIDE_ Hogwarts Express train park get ticket online sure get cheap tix local merchant buy tix online print ticket go straight gate ticket scan fingerprint like _DISNEY_ notice integrated system visit two _HARRY_POTTER_ exhibit get line Hogwarts Express ticket finger scan make sure _PARK_PASS_ use locker store stuff _RIDE_ one awesome rid locker lock electronically computer screen locate throughout room Using touch screen enter data sister scan finger one use enter park green light blink available locker press green lit button locker open return scan finger locker open main _RIDE_ line give ticket enter locker room use single rider line dont need one thought th genius put anything might fall pocket locker plus whatever buy ride spin around flip air awesome anyone ridden agree two day really hour day saw _HARRY_POTTER_ walk area include Jurrasic Park cool ate drank blast drive Naples room book Doubletree Hilton hotel could park car walk park key stay main park closing watch firework meet water jet meet movie screen tribute _UNIVERSAL_STUDIO_ movie must see within half hour walk back hotel eat good English pub fare drink great beer brew _HARRY_POTTER_ Florida brewing company psyched able walk hotel Everywhere go parks staff encounter awesome Friendly knowledgeable point responsibility whether serve food manage _RIDE_ line Everyone seem love job go visit stay couple day many world represent besides Potter Enjoy\n",
      "100.0% Best Park Orlando Two great park _UNIVERSAL_STUDIO_ Great _HARRY_POTTER_ fan well fan roller coaster Hulk excellent Rip _RIDE_ Worth use single rider line alternative expensive _EXPRESS_PASS_ _DISNEY_ great give choice family want go _UNIVERSAL_STUDIO_\n",
      "100.0% Summer vacation solo summer vacation year decide visit _UNIVERSAL_STUDIO_ hadn year still thoroughly enjoyed attraction however put hefty price tag put _EXPRESS_PASS_ ticket option Instead make use single rider line get several attraction record time without spend extra dime Gift shop price go food variety great\n",
      "100.0% Family friendly _THEME_PARK_ _THEME_PARK_ family friendly rid kid compare twin park _ISLAND_OF_ADVENTURE_ travel couple early April close Easter get busy since lot people England time since get week England Easter Even though park open make sure get since take time go parking security long walk park Essential Tips Staying resort waste time use VRBO stay nice condo mins away parks course rent car week Still cheap option pay park Don bother buy prime parking option 30USD Doesn make huge difference walk standard park 20USD go morning Food really want eat food park buy meal plan save meal meal plan per day include one meal one snack one drink food inside park expensive Best option bring food outside like Rides unless really want ride group sit together use single rider line save lot time rid multiple time Don bother buy _EXPRESS_PASS_ since always single rider option Highly recommend transformer _RIDE_ mummy return shrek 4S _RIDE_ Please not expect park crazy nasty roller coaster rid experience rather thrill ride contain thrill _RIDE_ _HARRY_POTTER_ area quite amaze _RIDE_ amaze must visit\n",
      "100.0% Cost conscious Mom ten year old give two thumb one day spend _UNIVERSAL_STUDIO_ pay extra _PARK_PASS_ see best _UNIVERSAL_STUDIO_ one day see best _ISLAND_OF_ADVENTURE_ one day spending extra money _PARK_PASS_ able take _HARRY_POTTER_ two minute train _RIDE_ Hogwarts Express park not pay exorbitant fee _EXPRESS_PASS_ able want include go favorite ride multiple time Utilize single rider line fast _EXPRESS_PASS_ line attraction not even _EXPRESS_PASS_ line single rider line Know advance ride require put thing locker free time give use locker Men Black enough time go three time row use single rider line _HARRY_POTTER_ Escape Gringotts great include look detail line tell also love Men Black lol like Despicable lot Shrek not much Twister Disaster fun chicken go _RIP_RIDE_ROCKIT_ saw close lol scorch hot day hard find shady spot get sun _UNIVERSAL_STUDIO_ find best shady spot eat sack lunch Diagon Alley watch performance fact Knockturn Alley within get no sun look cool spot Woody KidZone Curious George water area kid cool get soak Woody Woodpecker _RIDE_ great beginner _RIDE_ think ET _RIDE_ nostalgic cute fun want economize pack lunch Also bring water bottle water fountain everywhere refill bottle free need flavor bring Crystal Light Pure drink mix packet not waste time many restaurant gift shop enough time _RIDE_ attraction want short line morning evening less popular ride midday awesome dragon atop Gringotts bank breathes really fire every five ten minute People stand around hold camera try time right get picture breathe fire look great around dusk show lake end firework park close 9pm great way end day\n",
      "==================================================\n",
      "Topic 1\n",
      "100.0% Kids Love _UNIVERSAL_STUDIO_ Skip Full Dining Plan decide provide review Hard Rock Hotel _UNIVERSAL_STUDIO_ Orlando time since purchase trip package please say chose Hard Rock no regret Don forget download _UNIVERSAL_STUDIO_ app mobile device heading time take kid _UNIVERSAL_STUDIO_ right age minimum height requirement fully appreciate ride _UNIVERSAL_STUDIO_ go trip want make sure kid get fill no intention visit another _THEME_PARK_ anytime soon already take kid _DISNEY_ like know exactly mean Themes park exhaust wife year old stay Hard Rock Hotel Orlando seven night Dec 19th tour park enjoy hotel surroundings Vacationing Christmas great low price thin crowds Hard Rock hotel locate approximately minute Orlando airport purchase _UNIVERSAL_STUDIO_ shuttle service provide us _RIDE_ hotel aware new service provide _UNIVERSAL_STUDIO_ ask anyone airport direction pickup point no idea talk Remember leave cell phone check message land MCO _UNIVERSAL_STUDIO_ send alert provide instruction arrive Orlando not aware first pick shuttle hotel guest welcome package _UNIVERSAL_STUDIO_ store locate main floor NOT taxi _DISNEY_ Bus car rental locate inform shuttle pick locate head level transportation locate Initially fear go pick well use white passenger van similar one pull beside pick area Instead fully deck air condition black Mercedes van leather seat thirteen passenger show nice start indeed entertained flat screen TV _RIDE_ comfortably hotel Hard Rock entrance driveway lobby wow factor walk lobby check get sense quality chic atmosphere music hotel name suggest heard every corner hotel look quiet not select hotel Portofino Bay hotel would best bet Everyone greet us pleasant friendly smile didn matter driver bell boy front desk clean staff good service begin end arrive approximately 30AM unfortunately room not ready give us time tour hotel ground attractive pool curve line water slide locate back hotel level ground floor lobby actually locate level large seven floor hotel surprise pool not large not separate pool reserve adult see pool lounge area overcrowd peak season generally shallow pool small area foot deep always two life guard supervise pool remember kid safety still ultimately responsibility enjoyable aspect pool HEATED trust time year never know chilly Orlando get day leave degree Celsius Hard Rock project movie every night pool swim watch show time kid love get drink pool side bar server canvass area Although water slide nice touch not make decide factor nine year old slid time enough room locate sixth floor garden view please colorful yet tasteful modern decor hallway room importantly clean crisp white sheet two queen bed large updated flat screen LG TV Bluetooth radio alarm clock mini fridge hotel supply coffee tea k cup coffee maker supply water large room fit comfortably wake early one day take advantage early open _ISLAND_OF_ADVENTURE_ Park reserve hotel guest tell get 15AM beat crowd gate open 00AM make sense difference wait minute gate v wait _RIDE_ fact go _HARRY_POTTER_ regular hour wait minute go peak season like don stress aim arrive minute gate open rest time sleep leave park 30AM vacation two day get back room around 4PM find room still not make quick call concierge correct issue However disappointing hotel class two restaurant locate Hard Rock Kitchen Palm Restaurant disappoint not visit either make huge mistake purchase _UNIVERSAL_STUDIO_ Full Dining Plan go detail little later Kitchen serve meal mid level price Palm fine din variety Breakfast buffet Kitchen cost adult thirteen order dinner entree Kitchen price approximately not unreasonable tourist destination also small cafe snack shop could buy bottled water soft drink cereal box milk chip croissant etc something important know go attempt early park open suggest pick breakfast treat cafe NIGHT otherwise stand line cafe instead gate defeat purpose exercise big expensive mistake NOT BUY _UNIVERSAL_STUDIO_ FULL DINING PLAN repeat NOT BUY _UNIVERSAL_STUDIO_ FULL DINING PLAN tell others food refreshment _UNIVERSAL_STUDIO_ go expensive convince us buy plan pay day plus gratuity three adult year old consider adult one child meal plan nine year old include SNACK non alcoholic drink snack e chip popcorn ice cream etc QUICK SERVICE non alcoholic drink quick service menu item e sandwich fry combo burger fry combo etc Full Service non alcoholic drink entree menu desert believe Desert selection restaurant menu not include pre arrange desert _UNIVERSAL_STUDIO_ participate restaurant desert three day straight make polite complaint Also remember not restaurant participate _UNIVERSAL_STUDIO_ din plan add final bill actually pay dining plan order straight menu entree actually want eat not necessarily expensive item menu Another point remember restaurant plan locate City Walk park rain hotel guess miserable trek get food find huge selection variety food available reasonable price everywhere go Quick service meal price around e sandwich fry combo Full service entree pasta steak value service selection quality food Bread Box lunch every day Antojitos Authentic Mexican Food CowFish Vivo Italian Pat Brien Lombard Seafood Grill Jimmy Buffet Margaritaville outstanding quick serve meal not enjoy Mel Diner _UNIVERSAL_STUDIO_ food simply poor quality taste speak guest service explain no way could ever eat worth food base menu not get good value din plan nine year order menu year old could not appreciate expensive item not want refund day past wanted cancel remain plan However would not allow us hindsight probably spend approximately need food drink expensive mistake not make really no value _UNIVERSAL_STUDIO_ Full Dining option Don make mistake Go _UNIVERSAL_STUDIO_ site review din option price available love location Hard Rock Hotel could not hop _PARK_PASS_ hotel park easily little fuss couple hour rid morning back pool afternoon back park early even back hotel pool hot tub cap night hotel gate _UNIVERSAL_STUDIO_ entrance literally minute leisurely walk along shade beautiful well manicured clean walkway Another minute direction arrive _ISLAND_OF_ADVENTURE_ Right across _UNIVERSAL_STUDIO_ gate across bridge minute City Walk locate not rely complimentary ferry arrive every minute could convenient stay Portofino Bay hotel walk _UNIVERSAL_STUDIO_ would approximately minute forget something not likely go hike back ferry _RIDE_ Hard Rock City Walk minute not include wait boarding time ferry _RIDE_ Portofino Bay Hotel City Walk approximately minute not include wait boarding time Hard Rock right choice us fitness facility hotel occasion not take advantage surprised find hotel entire park provide free wi fi excellent signal strength _UNIVERSAL_STUDIO_ app give live park map restroom restaurant _RIDE_ location well wait time stay one onsite hotel three day park hopper _EXPRESS_PASS_ enough enjoy _UNIVERSAL_STUDIO_ offer enjoy full day park go back one absolutely love third day without fear miss anything not park _RIDE_ enthusiast constant crowd wait something really dislike _THEME_PARK_ _EXPRESS_PASS_ person value day complimentary stay hotel allow us move right past huge line quickly onto ride literally board _RIDE_ minute others wait huge benefit kid love trip probably understand Everything go accord plan except din option fun expensive exhausting trip win repeat anytime soon highly recommend Hard Rock Hotel _UNIVERSAL_STUDIO_ stay away _UNIVERSAL_STUDIO_ Dining Plans leave bitter taste mouth lighter pocket bad everything else perfect Hard Rock _UNIVERSAL_STUDIO_ _UNIVERSAL_STUDIO_ Dining Plan Zero\n",
      "100.0% Great Rides Shows Bought two day _PARK_PASS_ also _EXPRESS_PASS_ stay Hard Rock Hotel Didn use often queue weren bad Loads see Blues Brother Show shouldn miss simulator ride amazing Simpsons transformer Shrek Plenty eat place choose ate monster cafe burger tasty start January Christmas show Grinchmas still great Also catch last night Macy day parade excellent definitely back\n",
      "100.0% old folk young teen far well _DISNEY_ always tie trip _UNIVERSAL_STUDIO_ really fun place old folk teens not really fault Try stay Hard Rock Hotel much fun\n",
      "100.0% Fun great time rid ride thanks _PARK_PASS_ _EXPRESS_PASS_ move quickly line others wait good variety ride food shop stay Hard Rock Hotel walk distance park ride park clean worker clean friendly\n",
      "100.0% First time Orlando first visit Orlando brilliant back next year many sure two child age opt villa _UNIVERSAL_STUDIO_ ticket not _DISNEY_ SeaWorld Aquatica Busch Gardens highlight lovely weather surprised delighted easy drive clean place generally easy go everything book via Virgin could not fault service flight accommodation villa Davenport area along US27 day pas include whilst not mad rider think could main ride within day need last day stay Hard Rock hotel fantastic expensive get early park access _EXPRESS_PASS_ best ever Whilst time feel guilty walk past long queue people wait time dramatically reduce example min despicable _RIDE_ _RIDE_ within min _HARRY_POTTER_ Gringotts 60min wait get either buy advance gate stay park hotel cost One disappointment car parking cost _UNIVERSAL_STUDIO_ day general parking planning visit day allow extra go Volcano Bay waterpark last hour far busy Tapu wristband system _RIDE_ access whilst good practice sometimes doesn work e g hour wait rid average min didn enjoy Aquatica hand fantastic would highly recommend term rid favorite Minions Spiderman _HARRY_POTTER_ Hulk Strangely 3D ride actual coaster us great Hulk Cheetah Busch Gardens hair raise enough also attend Blue Man Group _UNIVERSAL_STUDIO_ great fun brilliant hour entertainment Loved holiday back\n",
      "100.0% Harry v Mickey Ears win _UNIVERSAL_STUDIO_ Pros _HARRY_POTTER_ land Diagon Alley _UNIVERSAL_STUDIO_ well Hogsmead Islands two best attraction ever attend overall theme attention detail absolutely unparalleled _UNIVERSAL_STUDIO_ CONS Nothing else great parade silly comparison ear say spiderman Islands Mummy _UNIVERSAL_STUDIO_ Transformers _UNIVERSAL_STUDIO_ great attraction compare Cedar Fair rid Six flags average compare _DISNEY_ Tickets NOT INCLUDE _EXPRESS_PASS_ Third day free don need 3rd day yr old scar many ride intense MOSTLY 3D movie simulator rid bit overdone Made wife daughter queezy lot TIPS _EXPRESS_PASS_=_CUR__NUMBER_ dollar day room Royal Polynesian approx + get DAYS free _EXPRESS_PASS_ arrival day departure day Blue Man Group not worth ticket let alone ticket Sure OK no La Nouba Unless stay hard rock hotel walk _NUMBER_+ minute car entrance plus dollar park Limited restaurant inside park average food table service _UNIVERSAL_STUDIO_ plus _HARRY_POTTER_ walk step average day take comfortable shoe Buy ButterBeer good Summary _DISNEY_ entire package entertainment _UNIVERSAL_STUDIO_ attraction gift wrap somewhat expensive shallow venue entertainment need know _UNIVERSAL_STUDIO_ _DISNEY_ quick answer Disneym\n",
      "100.0% Fun Vacation _UNIVERSAL_STUDIO_ Orlando everything everyone age must stay property hotel Easy access attraction stay Hard Rock hotel really cool hotel don stay visit hotel Islansd adventure park great ride like Incrediable Hulk Coaster _JURASSIC_PARK_RIDE_ River Adventure Jaws Simpsons Doctor Dooms Fearfall wow many ride Try Monster Cafe great place eat take picture also Beatle Jusice Graveyard Review see Blue man group show last hang city walk fun place adult unwind get ready tomorrow\n",
      "100.0% Good Park Greedy Corporation Went _UNIVERSAL_STUDIO_ yesterday 4th time year follow observation _UNIVERSAL_STUDIO_ badly turn due unrestrained greed actually gaul ask entry one park shamefully push _EXPRESS_PASS_ elitist cheating policy no end grade school learn cut line wrong buck head make ticket adult _UNIVERSAL_STUDIO_ willing encourage practice don forget parking fee bottle water wish get _EXPRESS_PASS_ reasonable option stay site hotel always stay Hard Rock Hotel well ROCKS room key act _EXPRESS_PASS_ day check check pool best new Simpsons _RIDE_ BOMB Florida resident get good deal depend season Scour website call book hotlines deal discount everywhere Many ride show age Sorry Jaws E Twister hardly cut edge film theme rid get little mouldy Kick notch please _UNIVERSAL_STUDIO_ high tech involve attraction well adult _ISLAND_OF_ADVENTURE_ kiddie stuff carnival style rid park pretty good definitely top Orlando attraction Hope help Altogether though worth time time\n",
      "==================================================\n",
      "Topic 2\n",
      "100.0% Pretty Exciting Days Spent _UNIVERSAL_STUDIO_ _UNIVERSAL_STUDIO_ _ISLAND_OF_ADVENTURE_ must visit Orlando anytime year review _UNIVERSAL_STUDIO_ though group late purchase day _PARK_PASS_ think sufficient cover park kid elderly people maybe rush take day ticket Take _EXPRESS_PASS_ want jump front line cost roughly per person skip small ride kid section cover famous ride park Despicable Minion Mayhem Revenge Mummy Harry Potters _RIDE_ Shrek 4D show Simpsons _RIDE_ Transformers 3D _RIDE_ Rockit _RIDE_ must best ride show park MEN BLACK Alien Attack interactive _RIDE_ _PARK_PASS_ must take Hogwarts Express train connects _UNIVERSAL_STUDIO_ _UNIVERSAL_STUDIO_ Island Adventures wait time famous ride weekend wait time even carry ample liquid keep hydrate wear comfortable clothes sure check weather Rain poncho umbrella available sale inside park rain rid like Rock may close suggest not carry big camera big bag may make slow throughout park ride don allow carry bag loose article place rent locker free hour store bag Small amount food allow inside park take favorite food avoid spending time line buy food inside park\n",
      "100.0% Fun Enough Orlando always _DISNEY_ _UNIVERSAL_STUDIO_ provide distraction offer enough enjoy one day always second book Parking adequate albeit trek actual park determine time like start day factor ~_NUMBER_ minute additional time actually begin visit Glad see ten year since last visited much change park include mandatory locker many ride Whenever see make beeline lock belonging hop right line cut wait time Original attraction Jaws Back Future dismantle new thrill Revenge Mummy TRANSFORMERS _RIDE_ 3D MEN BLACK Alien Attack offering fun excitement less excited somewhat nauseating Simpsons _RIDE_ Despicable Minion Mayhem Shrek 4D enough simulator multidimensional glass attention _UNIVERSAL_STUDIO_ E Adventure look like relic time let one go Caveat emptor take time scope park crowd cave _EXPRESS_PASS_ purchase totally unnecessary holiday weekend visit\n",
      "100.0% Hot worthy _UNIVERSAL_STUDIO_ always deliver crowded weren´t able _RIDE_ Despicable Minion Mayhem minute wait really Enjoyed _RIP_RIDE_ROCKIT_ Men Black Alien Attack Revenge Mummy Shrek 4D Simpsons _RIDE_ Transformers Special mention new addition _HARRY_POTTER_ Escape Gringotts Hogwarts Express Train really feel transported _HARRY_POTTER_ amaze attention detail decoration lovely lunch Leaky Cauldron _HARRY_POTTER_ area Great food great theme great service\n",
      "100.0% Great day One world amaze love _UNIVERSAL_STUDIO_ Orlando superb attraction lovely food _UNIVERSAL_STUDIO_ number two _DISNEY_ _THEME_PARK_ Orlando favourite ride Simpsons men black alien attack despicible transformer favourite show Shrek 4d experience film purchase queue skipper line although costy price worth every penny definitely recommend park family age\n",
      "100.0% Amazing Wait Return friend would love _UNIVERSAL_STUDIO_ right place amaze minute walk gate design place world majority rid great _RIP_RIDE_ROCKIT_ Race New York star Jammy Fallon Revenge Mummy Fast Furious Supercharged much emphasis build _RIDE_ short _HARRY_POTTER_ Escape Gringotts Hogwarts Express nice little journey park Men Black Alien Attack Simpsons _RIDE_ E kid Despicable Minion Mayhem Shrek 4D Horrendous build horrendous _RIDE_ Transformers absolutely no issue queue apart Despicable _RIDE_ queue minute Everything else _RIDE_ within minute max Simpsons Land world realistic plenty fairground game photo opportunity character Krusty Burger although slightly overprice pleasant surprise Moe Tavern good fun relax beer Plenty Simpsons shop plenty memorabilia offer go _UNIVERSAL_STUDIO_ four time stay not wait return\n",
      "100.0% Less Busier _ISLAND_OF_ADVENTURE_ take trip Monday Wednesday Winter explain able take ride hour fo ride wait time minute winter no need get _EXPRESS_PASS_ Parking quite expensive whole day walk quite distance reach Downtown _UNIVERSAL_STUDIO_ entrance _UNIVERSAL_STUDIO_ _ISLAND_OF_ADVENTURE_ Parks park lot _UNIVERSAL_STUDIO_ Orlando Florida house huge building Although _UNIVERSAL_STUDIO_ FLorida big Los Angeles definitely SIngapore park still miniscule compare huge Walt _DISNEY_ complex first day Monday spend _UNIVERSAL_STUDIO_ Orlando Tuesdays visit _UNIVERSAL_STUDIO_ _ISLAND_OF_ADVENTURE_ popular _HARRY_POTTER_ attraction locate rating different attraction _UNIVERSAL_STUDIO_ Orlando ET _RIDE_ One old attraction _UNIVERSAL_STUDIO_ Teenagers would not like _RIDE_ Suitable young child _RIP_RIDE_ROCKIT_ _RIDE_ teenager one rid popular visitor due numerous twist turn _RIDE_ Twister _RIDE_ basically show audience special effect movie Twister do show quite short First time visitor might find interesting Disaster Similar Twister show special effect film audience partipation make interest Simpson _RIDE_ Basically replace Back Future _RIDE_ easily get dizzy much shake fear height dont take _RIDE_ Shrek 4D first attraction _UNIVERSAL_STUDIO_ Nice watch first time wouldnt want probably watch Terminator 3D never like Terminator movie didnt appeal Men Black Alien Attack think _RIDE_ tame Boy wrong nearly make pas due turn easily get dizzy due movement never attempt take _RIDE_ Mummy _RIDE_ One nicer rid _UNIVERSAL_STUDIO_ like _UNIVERSAL_STUDIO_ Singapore location well Must See _RIDE_ Teenagers Hollywwod _RIP_RIDE_ROCKIT_ Simpson _RIDE_ Mummy _RIDE_\n",
      "100.0% Amazing experience _UNIVERSAL_STUDIO_ Mum Sister _UNIVERSAL_STUDIO_ opinion one best place visit Orlando visit late May early June fantastic experience day visit fortunate enough stay exceptional Loews Royal Pacific Resort lucky enough Unlimited _EXPRESS_PASS_ early park admission Wizarding World _HARRY_POTTER_ _ISLAND_OF_ADVENTURE_ complimentary use water taxi _EXPRESS_PASS_ fantastic allow skip regular line get go ride short wait let show earlier water taxi relax take minute get _UNIVERSAL_STUDIO_ City Walk way back hotel lucky enough experience Diagon Alley fantastic site include Kings Cross Station Platform Hogwarts Express Outside station Knight Bus statue Eros Leicester Square station lead actual Diagon Alley section park leave open mouth see outside Gringotts Bank fire breathe Dragon top _HARRY_POTTER_ Escape Gringotts _RIDE_ Unfortunately _RIDE_ wasn work hour give sister _EXPRESS_PASS_ come back _RIDE_ later eventually get _RIDE_ best _RIDE_ ever experience also breakfast Leaky Cauldron good experience ride show experienced outside Diagon Alley Despicable Minion Mayhem Shrek 4D _RIP_RIDE_ROCKIT_ Transformers _RIDE_ 3D Revenge Mummy BeetleJuice Disaster Twister Hogwarts Express Men Black Alien Attack Kang Kodos Twirl n Hurl Simpsons _RIDE_ Fear Factor Live Animal Actors Location E Adventure Mums favourite _RIDE_ Terminator 3D Thankyou _UNIVERSAL_STUDIO_\n",
      "100.0% Epic Even rain brother absolutely love _UNIVERSAL_STUDIO_ many ride different thing see make park stand _THEME_PARK_ lack outdoor attraction big outdoor attraction Hollywoood Rip _RIDE_ Roket mean even storm around many attraction remain open simulator ride particularly Krustyland Simpsons _RIDE_ Despicable Minion Mayhem Transformers _RIDE_ 3D phenomenal firm favourites mine family want compete competition Men Black Alien Attack Keen _HARRY_POTTER_ fan really want go _HARRY_POTTER_ Escape Gringott Bank not thrill ride though kid would really like Woddy Woodpecker land Barney ET _RIDE_ one cool family Overall highly recommend _UNIVERSAL_STUDIO_ _THEME_PARK_ lover would also recommend go know storm come attraction close storms rest remain open\n",
      "==================================================\n"
     ]
    }
   ],
   "source": [
    "get_top_documents_for_each_topic(W_studio, studio_reviews_topic.review_text.tolist(), num_docs=8)"
   ]
  },
  {
   "cell_type": "markdown",
   "metadata": {
    "id": "1hf43UScC4Rb"
   },
   "source": [
    "### Negative Topic"
   ]
  },
  {
   "cell_type": "code",
   "execution_count": 66,
   "metadata": {
    "id": "UbhHjVAvDKRz"
   },
   "outputs": [],
   "source": [
    "vectorizer = TfidfVectorizer(ngram_range=(3, 3),\n",
    "                             token_pattern=r'\\b[a-zA-Z]{2,}\\b',\n",
    "                             min_df=0.001,binary=True)"
   ]
  },
  {
   "cell_type": "code",
   "execution_count": 67,
   "metadata": {
    "colab": {
     "base_uri": "https://localhost:8080/"
    },
    "id": "jLmKfhATC5_V",
    "outputId": "28d911cd-c465-455d-c9be-cc93e50b57c6"
   },
   "outputs": [
    {
     "name": "stdout",
     "output_type": "stream",
     "text": [
      "Studio TF-IDF: (5693, 1255)\n",
      "   able get ride  able go ride  actual wait time  actually get park  \\\n",
      "0            0.0           0.0               0.0                0.0   \n",
      "1            0.0           0.0               0.0                0.0   \n",
      "2            0.0           0.0               0.0                0.0   \n",
      "3            0.0           0.0               0.0                0.0   \n",
      "4            0.0           0.0               0.0                0.0   \n",
      "\n",
      "   add insult injury  additional per person  additional per ticket  \\\n",
      "0                0.0                    0.0                    0.0   \n",
      "1                0.0                    0.0                    0.0   \n",
      "2                0.0                    0.0                    0.0   \n",
      "3                0.0                    0.0                    0.0   \n",
      "4                0.0                    0.0                    0.0   \n",
      "\n",
      "   adult two kid  allow bring food  almost hour get  ...  year old girl  \\\n",
      "0            0.0               0.0              0.0  ...            0.0   \n",
      "1            0.0               0.0              0.0  ...            0.0   \n",
      "2            0.0               0.0              0.0  ...            0.0   \n",
      "3            0.0               0.0              0.0  ...            0.0   \n",
      "4            0.0               0.0              0.0  ...            0.0   \n",
      "\n",
      "   year old grandson  year old love  year old not  year old son  \\\n",
      "0                0.0            0.0           0.0           0.0   \n",
      "1                0.0            0.0           0.0           0.0   \n",
      "2                0.0            0.0           0.0           0.0   \n",
      "3                0.0            0.0           0.0           0.0   \n",
      "4                0.0            0.0           0.0           0.0   \n",
      "\n",
      "   year old year  year since last  york san francisco  young child not  \\\n",
      "0            0.0         0.000000                 0.0              0.0   \n",
      "1            0.0         0.000000                 0.0              0.0   \n",
      "2            0.0         0.000000                 0.0              0.0   \n",
      "3            0.0         0.000000                 0.0              0.0   \n",
      "4            0.0         0.556524                 0.0              0.0   \n",
      "\n",
      "   yr old son  \n",
      "0         0.0  \n",
      "1         0.0  \n",
      "2         0.0  \n",
      "3         0.0  \n",
      "4         0.0  \n",
      "\n",
      "[5 rows x 1255 columns]\n",
      "Original shape of X news is (5693, 1255)\n",
      "Decomposed W news matrix is (5693, 2)\n",
      "Decomposed H news matrix is (2, 1255)\n"
     ]
    },
    {
     "name": "stderr",
     "output_type": "stream",
     "text": [
      "/Users/bingxin/opt/anaconda3/lib/python3.8/site-packages/sklearn/decomposition/_nmf.py:312: FutureWarning: The 'init' value, when 'init=None' and n_components is less than n_samples and n_features, will be changed from 'nndsvd' to 'nndsvda' in 1.1 (renaming of 0.26).\n",
      "  warnings.warn((\"The 'init' value, when 'init=None' and \"\n"
     ]
    }
   ],
   "source": [
    "studio_reviews_topic, studio_tf_idf, W_studio, H_studio = topic_model(2, 'Florida', 2002, 2021, [1, 2, 3])"
   ]
  },
  {
   "cell_type": "code",
   "execution_count": 68,
   "metadata": {
    "colab": {
     "base_uri": "https://localhost:8080/"
    },
    "id": "V5ff9Q9XC-jv",
    "outputId": "22bb2b6f-fcba-42fc-906c-cb25593cb509"
   },
   "outputs": [
    {
     "name": "stdout",
     "output_type": "stream",
     "text": [
      "TOPIC 0\n",
      "\n",
      "\bnot worth money (25.0%)\n",
      "\n",
      "\bworth money pay (1.8%)\n",
      "\n",
      "\bworth money go (1.6%)\n",
      "\n",
      "\bsave money go (1.5%)\n",
      "\n",
      "\bdon waste money (1.1%)\n",
      "\n",
      "==================================================\n",
      "TOPIC 1\n",
      "\n",
      "\bwaste time money (13.1%)\n",
      "\n",
      "\bdon waste time (11.3%)\n",
      "\n",
      "\bnever go back (2.2%)\n",
      "\n",
      "\bnot waste time (1.4%)\n",
      "\n",
      "\bwaste time go (1.2%)\n",
      "\n",
      "==================================================\n"
     ]
    }
   ],
   "source": [
    "get_top_tf_idf_tokens_for_topic(H_studio, studio_tf_idf.columns.tolist(), 5)"
   ]
  },
  {
   "cell_type": "code",
   "execution_count": 69,
   "metadata": {
    "colab": {
     "base_uri": "https://localhost:8080/"
    },
    "id": "vIQEwG0vDkJf",
    "outputId": "22a17857-4733-488f-8eb6-d31a6148af63"
   },
   "outputs": [
    {
     "name": "stdout",
     "output_type": "stream",
     "text": [
      "Topic 0\n",
      "100.0% Not worth money must go three ride Waste money expensive find LA Singapore much good also don serve Halal food limit eat least vegetarian option not Halal place world\n",
      "100.0% Not worth money old mediocre rid Graphics _HARRY_POTTER_ not good pricey quality number ride available\n",
      "100.0% Disappointed expect read nuber review decidin whether go not go decide go visit _UNIVERSAL_STUDIO_ pay two us excite enter park see rides character Half way day start get little disappoined feeling rip opinion park enterance fee way overprice not worth money also visit _UNIVERSAL_STUDIO_ Singapore much value money city alot well thing see Sorry Orlando overrate\n",
      "100.0% not worth money Went _UNIVERSAL_STUDIO_ september waste money whole park one big commercial circus average rides staff extremly rude line short first site line outside one attraction discover line inside building many time longer see park charge price _DISNEY_ not even half fun plan go Orlando money spent well go _DISNEY_\n",
      "100.0% Pales comparison _DISNEY_ previous year spend day DisneyWorld first time highly impressed decide cap Orlando experience take _UNIVERSAL_STUDIO_ year Compared _DISNEY_ _UNIVERSAL_STUDIO_ inferior almost every level park small less think few attraction worth see best ride close update _RIDE_ breakdown frequent Admission price par _DISNEY_ park close 5pm whereas _DISNEY_ park stay open late 9pm resort attach _UNIVERSAL_STUDIO_ particularly run Lowe not worth money Service poor management shamelessly unapologetically nickel dime extra charge day park bottled water extra charge use fitness room multiple bogus restaurant charge didn incur place _UNIVERSAL_STUDIO_ come ahead charge less beer case significant save overall say Orlando take _DISNEY_ leave _UNIVERSAL_STUDIO_ alone\n",
      "100.0% Not worth money partner spend day money spend ticket not seem worth go _HARRY_POTTER_ land felt look around park never spend good amount money ticket really disappointed park opinion park attraction didn make sense seem like take bunch _UNIVERSAL_STUDIO_ product together without think flow placement lot shop decoration seem really pointless Unless like randomly place attraction spend lot ticket confuse layout would skip together\n",
      "100.0% Not worth money original _UNIVERSAL_STUDIO_ not worth money nothing compare _UNIVERSAL_STUDIO_ _ISLAND_OF_ADVENTURE_ pick one go _ISLAND_OF_ADVENTURE_ Studios quite boring year old parade leave much desire like fact could purchase alcohol walk around not much little one playground not pay person kid play playground time serious revamp\n",
      "100.0% Halloween fright night experience love _UNIVERSAL_STUDIO_ _THEME_PARK_ include ride entertainment However decide pay extra experience Halloween fright night disappointed Queues long get fright experience build many people inside see creature jump people front no surprise costume scene professional Not worth money due time scale not sufficient time see everything suggest reduce number ticket sale\n",
      "==================================================\n",
      "Topic 1\n",
      "100.0% _DISNEY_ life Don waste time money place Haven even go trip yet already nasty taste mouth Customer service unfriendly rude\n",
      "99.9% Virtual Pass Sucks great ride however new ride require virtual pas book _UNIVERSAL_STUDIO_ App problem wait day not get ticket _RIDE_ scam Three day row waited release time click pas not available talk within second Sad thing many travel long distance want _RIDE_ rid not Lots money no reward Plus new ride not _EXPRESS_PASS_ don waste time money either never go back away Virtual Pass hate wait line least get _RIDE_ ride\n",
      "100.0% _HARRY_POTTER_ _THEME_PARK_ Huge Disappointment family excite trip new _HARRY_POTTER_ _THEME_PARK_ recent trip Florida ticket _UNIVERSAL_STUDIO_ _ISLAND_OF_ADVENTURE_ expensive inside park disappoint extremely crowd basically stand line spend money line Ollivander Wand Shop least hour minute stand line go store go ride line Hippogriff _RIDE_ minute _RIDE_ seem last less minute huge line everything include mug butterbeer bright spot castle tour _RIDE_ would never waste time money\n",
      "100.0% Expensive Museum Screens Coming UK trip obviously cost lot money Disappointed understatement Not ticket price rise dramatically rid mediocre poor Screen screen get tire Diagon Alley beautiful massive money trap ruin tacky simulator disguise rollercoaster Even _RIP_RIDE_ROCKIT_ doesn save park rough big complaint tiny locker room Gringotts also Forbidden Journey park incredibly cramp claustrophobic tough waste time money\n",
      "100.0% waste time money week ago park ok get young child lot However _UNIVERSAL_STUDIO_ could better keep updated ride Terminator Disaster not run no one seem give DAME say Twister complete rubbish Staff fairly friendly not helpful Whole place date Wish hadn bother save cost two us Go Animal Kingdom Seaworld instead well value money far\n",
      "100.0% Forget Another park waste time money like Magic Kingdom Old outdated ride huge crowd wait couple ride still ok like tower terror rock rollercoaster pretty much forget everything include food Junk food galore\n",
      "100.0% Waste Time Money daughter go _UNIVERSAL_STUDIO_ bored tear attraction outdated lame felt bad family several child pay fortune little entertainment _DISNEY_ put _UNIVERSAL_STUDIO_ shame\n",
      "100.0% Waste time money adult half day milions people even not high season buy expess ticket not warrianty express enterance entertaiment Generally waste time money small Devices old Run Away _UNIVERSAL_STUDIO_ adventure\n",
      "==================================================\n"
     ]
    }
   ],
   "source": [
    "get_top_documents_for_each_topic(W_studio, studio_reviews_topic.review_text.tolist(), num_docs=8)"
   ]
  },
  {
   "cell_type": "markdown",
   "metadata": {
    "id": "2-5ONTwQWOou"
   },
   "source": [
    "## Random Forest"
   ]
  },
  {
   "cell_type": "code",
   "execution_count": 107,
   "metadata": {},
   "outputs": [],
   "source": [
    "vectorizer = TfidfVectorizer(ngram_range=(3, 3),\n",
    "                             token_pattern=r'\\b[a-zA-Z]{2,}\\b',\n",
    "                            min_df=0.001, max_features=300,binary=True)"
   ]
  },
  {
   "cell_type": "code",
   "execution_count": 108,
   "metadata": {
    "id": "_MFgU4LGwJ6W"
   },
   "outputs": [],
   "source": [
    "def regex_clean(text):\n",
    "    text = re.sub(r'\\b(wait time [a-zA-Z]+)|(wait line [a-zA-Z]+)|(ride [a-zA-Z]+ wait)|(wait [a-zA-Z]+ ride)|([a-zA-Z]+ wait time)|(wait [a-zA-Z]+ time)\\b', 'ride wait time', text, flags=re.IGNORECASE)\n",
    "    text = re.sub(r'\\bticket\\b', 'pass', text, flags=re.IGNORECASE)\n",
    "    return text\n",
    "studio_reviews['review_text'] = [regex_clean(text) for text in studio_reviews['review_text']]"
   ]
  },
  {
   "cell_type": "code",
   "execution_count": 109,
   "metadata": {
    "id": "c5kYjyTOWbbg"
   },
   "outputs": [],
   "source": [
    "def partition(x):\n",
    "    sentiment = ''\n",
    "    if x <= 3:\n",
    "        sentiment = 0\n",
    "    else:\n",
    "        sentiment = 1\n",
    "    return sentiment"
   ]
  },
  {
   "cell_type": "code",
   "execution_count": 110,
   "metadata": {
    "id": "if9l7OtZXc_u"
   },
   "outputs": [],
   "source": [
    "studio_reviews['Sentiment'] = studio_reviews['rating'].map(lambda x:partition(x))"
   ]
  },
  {
   "cell_type": "code",
   "execution_count": 111,
   "metadata": {
    "id": "-Ehsgwe4YQq3"
   },
   "outputs": [],
   "source": [
    "X = vectorizer.fit_transform(studio_reviews.review_text)\n",
    "labels = studio_reviews.Sentiment.values"
   ]
  },
  {
   "cell_type": "code",
   "execution_count": 112,
   "metadata": {
    "colab": {
     "base_uri": "https://localhost:8080/"
    },
    "id": "HyHuc6Z56ZoK",
    "outputId": "c74868f8-ae0b-4b19-b53e-d791ecdca7e1"
   },
   "outputs": [
    {
     "data": {
      "text/plain": [
       "1    41671\n",
       "0     9176\n",
       "dtype: int64"
      ]
     },
     "execution_count": 112,
     "metadata": {},
     "output_type": "execute_result"
    }
   ],
   "source": [
    "pd.Series(labels).value_counts()"
   ]
  },
  {
   "cell_type": "code",
   "execution_count": 113,
   "metadata": {
    "id": "KSChTwdWYg_s"
   },
   "outputs": [],
   "source": [
    "from sklearn.model_selection import train_test_split\n",
    "X_train, X_test, y_train, y_test = train_test_split(X, \n",
    "                                                    labels, test_size=0.2,stratify=labels,random_state=42)"
   ]
  },
  {
   "cell_type": "code",
   "execution_count": 114,
   "metadata": {
    "colab": {
     "base_uri": "https://localhost:8080/"
    },
    "id": "U-5-Iw4dZnRp",
    "outputId": "d4627946-5f31-4c0c-a116-112d7195314c"
   },
   "outputs": [
    {
     "name": "stdout",
     "output_type": "stream",
     "text": [
      "Train Accuracy : 85.21%\n",
      "Test Accuracy  : 82.45%\n"
     ]
    }
   ],
   "source": [
    "from sklearn.ensemble import RandomForestClassifier\n",
    "forest = RandomForestClassifier(n_estimators = 100)\n",
    "forest.fit(X_train,y_train)\n",
    "y_pred = forest.predict(X_test)\n",
    "acc_train = forest.score(X_train, y_train)\n",
    "acc_test = forest.score(X_test, y_test)\n",
    "print('Train Accuracy : {:.2f}%'.format(acc_train*100))\n",
    "print('Test Accuracy  : {:.2f}%'.format(acc_test*100))"
   ]
  },
  {
   "cell_type": "code",
   "execution_count": 115,
   "metadata": {
    "colab": {
     "base_uri": "https://localhost:8080/"
    },
    "id": "-WfsK-wFewlX",
    "outputId": "6fefecfd-85db-4229-92d5-83bc83ededd1"
   },
   "outputs": [],
   "source": [
    "feature_scores = pd.DataFrame({'Feature Names':vectorizer.get_feature_names(),'Feature Importance':forest.feature_importances_})"
   ]
  },
  {
   "cell_type": "code",
   "execution_count": 116,
   "metadata": {
    "colab": {
     "base_uri": "https://localhost:8080/",
     "height": 645
    },
    "id": "7_TOYzFnZ6NZ",
    "outputId": "c3314980-2884-489a-e937-a33de0e6cfe8"
   },
   "outputs": [
    {
     "data": {
      "text/html": [
       "<div>\n",
       "<style scoped>\n",
       "    .dataframe tbody tr th:only-of-type {\n",
       "        vertical-align: middle;\n",
       "    }\n",
       "\n",
       "    .dataframe tbody tr th {\n",
       "        vertical-align: top;\n",
       "    }\n",
       "\n",
       "    .dataframe thead th {\n",
       "        text-align: right;\n",
       "    }\n",
       "</style>\n",
       "<table border=\"1\" class=\"dataframe\">\n",
       "  <thead>\n",
       "    <tr style=\"text-align: right;\">\n",
       "      <th></th>\n",
       "      <th>Feature Names</th>\n",
       "      <th>Feature Importance</th>\n",
       "    </tr>\n",
       "  </thead>\n",
       "  <tbody>\n",
       "    <tr>\n",
       "      <th>214</th>\n",
       "      <td>ride wait time</td>\n",
       "      <td>0.070409</td>\n",
       "    </tr>\n",
       "    <tr>\n",
       "      <th>273</th>\n",
       "      <td>waste time money</td>\n",
       "      <td>0.047488</td>\n",
       "    </tr>\n",
       "    <tr>\n",
       "      <th>170</th>\n",
       "      <td>not worth money</td>\n",
       "      <td>0.046708</td>\n",
       "    </tr>\n",
       "    <tr>\n",
       "      <th>165</th>\n",
       "      <td>not go back</td>\n",
       "      <td>0.040319</td>\n",
       "    </tr>\n",
       "    <tr>\n",
       "      <th>167</th>\n",
       "      <td>not many ride</td>\n",
       "      <td>0.017426</td>\n",
       "    </tr>\n",
       "    <tr>\n",
       "      <th>46</th>\n",
       "      <td>don waste money</td>\n",
       "      <td>0.017380</td>\n",
       "    </tr>\n",
       "    <tr>\n",
       "      <th>292</th>\n",
       "      <td>would not recommend</td>\n",
       "      <td>0.014833</td>\n",
       "    </tr>\n",
       "    <tr>\n",
       "      <th>47</th>\n",
       "      <td>don waste time</td>\n",
       "      <td>0.014042</td>\n",
       "    </tr>\n",
       "    <tr>\n",
       "      <th>91</th>\n",
       "      <td>go guest service</td>\n",
       "      <td>0.013035</td>\n",
       "    </tr>\n",
       "    <tr>\n",
       "      <th>262</th>\n",
       "      <td>wait time hour</td>\n",
       "      <td>0.011960</td>\n",
       "    </tr>\n",
       "  </tbody>\n",
       "</table>\n",
       "</div>"
      ],
      "text/plain": [
       "           Feature Names  Feature Importance\n",
       "214       ride wait time            0.070409\n",
       "273     waste time money            0.047488\n",
       "170      not worth money            0.046708\n",
       "165          not go back            0.040319\n",
       "167        not many ride            0.017426\n",
       "46       don waste money            0.017380\n",
       "292  would not recommend            0.014833\n",
       "47        don waste time            0.014042\n",
       "91      go guest service            0.013035\n",
       "262       wait time hour            0.011960"
      ]
     },
     "execution_count": 116,
     "metadata": {},
     "output_type": "execute_result"
    }
   ],
   "source": [
    "feature_scores.sort_values('Feature Importance',ascending=False,inplace=True)\n",
    "feature_scores.head(10)"
   ]
  },
  {
   "cell_type": "code",
   "execution_count": 117,
   "metadata": {
    "id": "jTB7CWZLwbUp"
   },
   "outputs": [],
   "source": [
    "plt.rcParams.update({'figure.figsize':(10,8)})\n",
    "plt.rcParams.update({'font.size':15})"
   ]
  },
  {
   "cell_type": "code",
   "execution_count": 118,
   "metadata": {
    "id": "rRw-L1xnwfay"
   },
   "outputs": [
    {
     "data": {
      "text/plain": [
       "<AxesSubplot:xlabel='Feature Importance', ylabel='Feature Names'>"
      ]
     },
     "execution_count": 118,
     "metadata": {},
     "output_type": "execute_result"
    },
    {
     "data": {
      "image/png": "[encoded data removed]",
      "text/plain": [
       "<Figure size 720x576 with 1 Axes>"
      ]
     },
     "metadata": {},
     "output_type": "display_data"
    }
   ],
   "source": [
    "sns.set_style(\"white\")\n",
    "sns.color_palette(\"ch:s=.25,rot=-.25\", as_cmap=True)\n",
    "sns.barplot(y='Feature Names',x='Feature Importance',data=feature_scores.head(5),palette=\"ch:s=.25,rot=-.25\")\n",
    "# plt.savefig('feature importance',bbox_inches = 'tight')"
   ]
  }
 ],
 "metadata": {
  "colab": {
   "collapsed_sections": [],
   "name": "NLP Project.ipynb",
   "provenance": []
  },
  "kernelspec": {
   "display_name": "Python 3",
   "language": "python",
   "name": "python3"
  },
  "language_info": {
   "codemirror_mode": {
    "name": "ipython",
    "version": 3
   },
   "file_extension": ".py",
   "mimetype": "text/x-python",
   "name": "python",
   "nbconvert_exporter": "python",
   "pygments_lexer": "ipython3",
   "version": "3.8.8"
  }
 },
 "nbformat": 4,
 "nbformat_minor": 1
}
